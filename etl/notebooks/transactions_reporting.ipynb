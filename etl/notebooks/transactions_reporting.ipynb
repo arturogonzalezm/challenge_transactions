{
 "cells": [
  {
   "cell_type": "code",
   "execution_count": 34,
   "metadata": {
    "collapsed": true,
    "jupyter": {
     "outputs_hidden": true
    }
   },
   "outputs": [],
   "source": [
    "RAW_FILE_PATH = '../../data/raw/Transaction.csv'\n",
    "OUTPUT_PATH = '../../data/'"
   ]
  },
  {
   "cell_type": "code",
   "execution_count": 35,
   "outputs": [],
   "source": [
    "%run '../../schema_definition/schema.py'"
   ],
   "metadata": {
    "collapsed": false,
    "pycharm": {
     "name": "#%%\n"
    }
   }
  },
  {
   "cell_type": "code",
   "execution_count": 36,
   "outputs": [],
   "source": [
    "import sys\n",
    "sys.path.insert(0, '../../')\n",
    "\n",
    "from schema_definition.schema import *"
   ],
   "metadata": {
    "collapsed": false,
    "pycharm": {
     "name": "#%%\n"
    }
   }
  },
  {
   "cell_type": "code",
   "execution_count": 37,
   "outputs": [],
   "source": [
    "from pyspark.shell import spark\n",
    "from pyspark.sql import functions as F"
   ],
   "metadata": {
    "collapsed": false,
    "pycharm": {
     "name": "#%%\n"
    }
   }
  },
  {
   "cell_type": "code",
   "execution_count": 38,
   "outputs": [
    {
     "name": "stdout",
     "output_type": "stream",
     "text": [
      "root\n",
      " |-- AccountID: integer (nullable = true)\n",
      " |-- CODE: integer (nullable = true)\n",
      " |-- ImplementedDate: timestamp (nullable = true)\n",
      " |-- ActiveIndicator: integer (nullable = true)\n",
      " |-- AccountType: string (nullable = true)\n",
      " |-- Service: string (nullable = true)\n",
      " |-- BU: string (nullable = true)\n",
      " |-- RequestDate: timestamp (nullable = true)\n",
      " |-- AccountStatus: string (nullable = true)\n",
      " |-- StatusCode: integer (nullable = true)\n",
      " |-- Amount: double (nullable = true)\n",
      " |-- Version: string (nullable = true)\n",
      " |-- AgentID: integer (nullable = true)\n",
      " |-- Fibre: string (nullable = true)\n",
      " |-- LastUpdatedDate: timestamp (nullable = true)\n",
      " |-- PropertyType: string (nullable = true)\n",
      " |-- PostCode: integer (nullable = true)\n",
      " |-- HashKey: string (nullable = true)\n",
      " |-- Response: integer (nullable = true)\n",
      "\n",
      "+---------+----+-------------------+---------------+-----------+-------+----+-------------------+-------------+----------+------+-------+-------+---------------+-------------------+------------+--------+----------------------------------------------------------------+--------+\n",
      "|AccountID|CODE|ImplementedDate    |ActiveIndicator|AccountType|Service|BU  |RequestDate        |AccountStatus|StatusCode|Amount|Version|AgentID|Fibre          |LastUpdatedDate    |PropertyType|PostCode|HashKey                                                         |Response|\n",
      "+---------+----+-------------------+---------------+-----------+-------+----+-------------------+-------------+----------+------+-------+-------+---------------+-------------------+------------+--------+----------------------------------------------------------------+--------+\n",
      "|10059    |108 |2017-09-08 00:00:00|1              |B2B        |ELE    |NUOS|2017-09-07 00:00:00|PAID         |0         |7.63  |v1_0   |307562 |EN63321039-N-2 |2017-09-13 09:09:00|RESI        |2581    |6a5e49bfc380210f385dc6977c84f5e25c5b71a2ce3791359053ab0d9a9932c5|-1      |\n",
      "|10044    |108 |2017-09-08 00:00:00|1              |B2B        |ELE    |NUOS|2017-09-07 00:00:00|PAID         |6         |6.97  |v1_0   |307562 |EN63320689-N-2 |2017-09-13 09:11:00|RESI        |2581    |e9ebc4073b967e76071bc5b53e841447e133963faf6a2b30fb321a043c49065b|-1      |\n",
      "|10017    |543 |2017-09-07 00:00:00|1              |B2B        |ELE    |NUOS|2017-09-06 00:00:00|PAID         |6         |4.29  |v1_0   |307510 |EN122701002-N-8|2017-09-07 13:16:00|RESI        |2587    |80156703b5677ffe2dcba7319d92820d6e0936140ede8edd7955cee7f12084ea|-1      |\n",
      "|10064    |108 |2017-09-08 00:00:00|1              |B2B        |ELE    |NUOS|2017-09-07 00:00:00|PAID         |1         |0.88  |v1_0   |307561 |EN63319384-N-3 |2017-09-13 09:06:00|RESI        |2581    |0815193f9b7ee7d3aa48446ae615bc5e278f3aa402abc024a95464af987b6aa5|-1      |\n",
      "|10068    |108 |2017-09-08 00:00:00|1              |B2B        |ELE    |NUOS|2017-09-07 00:00:00|PAID         |8         |0.93  |v1_0   |307563 |EN63318607-N-3 |2017-09-13 08:57:00|RESI        |2581    |125ba86afe304dcc820b17a860807d56889f15e52f08897876ba413e23388f9d|-1      |\n",
      "+---------+----+-------------------+---------------+-----------+-------+----+-------------------+-------------+----------+------+-------+-------+---------------+-------------------+------------+--------+----------------------------------------------------------------+--------+\n",
      "only showing top 5 rows\n",
      "\n"
     ]
    }
   ],
   "source": [
    "gold_df = spark.read.json(OUTPUT_PATH + \"gold\", gold_schema)\n",
    "calculate_response = gold_df.withColumn(\"Response\", F.datediff(F.col(\"RequestDate\"), F.col(\"ImplementedDate\")))\n",
    "calculate_response.createOrReplaceTempView(\"fastest_response\")\n",
    "\n",
    "fastest_response_query = \"\"\"\n",
    "                        SELECT *\n",
    "                        FROM fastest_response\n",
    "                        ORDER BY Response DESC\n",
    "                        \"\"\"\n",
    "fastest_response_df = spark.sql(fastest_response_query)\n",
    "fastest_response_df.printSchema()\n",
    "fastest_response_df.show(5, truncate=False)"
   ],
   "metadata": {
    "collapsed": false,
    "pycharm": {
     "name": "#%%\n"
    }
   }
  }
 ],
 "metadata": {
  "kernelspec": {
   "display_name": "Python 3 (ipykernel)",
   "language": "python",
   "name": "python3"
  },
  "language_info": {
   "codemirror_mode": {
    "name": "ipython",
    "version": 3
   },
   "file_extension": ".py",
   "mimetype": "text/x-python",
   "name": "python",
   "nbconvert_exporter": "python",
   "pygments_lexer": "ipython3",
   "version": "3.8.9"
  }
 },
 "nbformat": 4,
 "nbformat_minor": 4
}