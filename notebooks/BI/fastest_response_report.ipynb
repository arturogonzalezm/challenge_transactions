{
 "cells": [
  {
   "cell_type": "code",
   "execution_count": 1,
   "metadata": {
    "collapsed": true,
    "jupyter": {
     "outputs_hidden": true
    }
   },
   "outputs": [],
   "source": [
    "OUTPUT_PATH = '../../data/'"
   ]
  },
  {
   "cell_type": "code",
   "execution_count": 2,
   "outputs": [],
   "source": [
    "%run '../../schema_definition/schema.py'"
   ],
   "metadata": {
    "collapsed": false,
    "pycharm": {
     "name": "#%%\n"
    }
   }
  },
  {
   "cell_type": "code",
   "execution_count": 3,
   "outputs": [],
   "source": [
    "import sys\n",
    "sys.path.insert(0, '../../')\n",
    "\n",
    "from schema_definition.schema import *"
   ],
   "metadata": {
    "collapsed": false,
    "pycharm": {
     "name": "#%%\n"
    }
   }
  },
  {
   "cell_type": "code",
   "execution_count": 4,
   "outputs": [
    {
     "name": "stderr",
     "output_type": "stream",
     "text": [
      "WARNING: An illegal reflective access operation has occurred\n",
      "WARNING: Illegal reflective access by org.apache.spark.unsafe.Platform (file:/Users/arturogonzalez/Documents/dev/spark-3.1.2-bin-hadoop3.2/jars/spark-unsafe_2.12-3.1.2.jar) to constructor java.nio.DirectByteBuffer(long,int)\n",
      "WARNING: Please consider reporting this to the maintainers of org.apache.spark.unsafe.Platform\n",
      "WARNING: Use --illegal-access=warn to enable warnings of further illegal reflective access operations\n",
      "WARNING: All illegal access operations will be denied in a future release\n",
      "21/10/16 04:14:33 WARN NativeCodeLoader: Unable to load native-hadoop library for your platform... using builtin-java classes where applicable\n",
      "Using Spark's default log4j profile: org/apache/spark/log4j-defaults.properties\n",
      "Setting default log level to \"WARN\".\n",
      "To adjust logging level use sc.setLogLevel(newLevel). For SparkR, use setLogLevel(newLevel).\n",
      "21/10/16 04:14:34 WARN Utils: Service 'SparkUI' could not bind on port 4040. Attempting port 4041.\n",
      "21/10/16 04:14:34 WARN Utils: Service 'SparkUI' could not bind on port 4041. Attempting port 4042.\n"
     ]
    },
    {
     "name": "stdout",
     "output_type": "stream",
     "text": [
      "Welcome to\n",
      "      ____              __\n",
      "     / __/__  ___ _____/ /__\n",
      "    _\\ \\/ _ \\/ _ `/ __/  '_/\n",
      "   /__ / .__/\\_,_/_/ /_/\\_\\   version 3.1.2\n",
      "      /_/\n",
      "\n",
      "Using Python version 3.8.9 (default, Aug 21 2021 15:53:23)\n",
      "Spark context Web UI available at http://localhost:4042\n",
      "Spark context available as 'sc' (master = local[*], app id = local-1634318074587).\n",
      "SparkSession available as 'spark'.\n"
     ]
    }
   ],
   "source": [
    "from pyspark.shell import spark\n",
    "from pyspark.sql import functions as F"
   ],
   "metadata": {
    "collapsed": false,
    "pycharm": {
     "name": "#%%\n"
    }
   }
  },
  {
   "cell_type": "markdown",
   "source": [
    "- When the number of events reach 1000, output the events to a JSON file.\n",
    "- The output filenames should have a batch number e.g. the second 1000 records will go into a file called 2.json and so on."
   ],
   "metadata": {
    "collapsed": false,
    "pycharm": {
     "name": "#%% md\n"
    }
   }
  },
  {
   "cell_type": "code",
   "execution_count": 7,
   "outputs": [
    {
     "data": {
      "text/plain": "       AccountID  CODE ImplementedDate  ActiveIndicator AccountType Service  \\\n0         415740   105      2017-09-05              1.0         B2B     ELE   \n1         524218   105      2017-09-05              1.0         B2B     ELE   \n2         632695   105      2017-09-05              1.0         B2B     ELE   \n3          10036   105      2017-09-05              1.0         B2B     ELE   \n4          10026   105      2017-09-05              1.0         B2B     ELE   \n...          ...   ...             ...              ...         ...     ...   \n29648      10018   107      2017-09-11              1.0         B2B     ELE   \n29649      10047   107      2017-09-11              1.0         B2B     ELE   \n29650      10039   107      2017-09-11              1.0         B2B     ELE   \n29651      10037   107      2017-09-11              1.0         B2B     ELE   \n29652      10074   107      2017-09-11              1.0         B2B     ELE   \n\n         BU RequestDate AccountStatus  StatusCode  Amount Version  AgentID  \\\n0      NUOS  2017-09-04          PAID           8    3.31    v1_0   307312   \n1      NUOS  2017-09-04          PAID           7    1.01    v1_0   307312   \n2      NUOS  2017-09-04          PAID           3    0.09    v1_0   307312   \n3      NUOS  2017-09-04          PAID           2    1.04    v1_0   307312   \n4      NUOS  2017-09-04          PAID           3   13.12    v1_0   307312   \n...     ...         ...           ...         ...     ...     ...      ...   \n29648  NUOS  2016-09-08          PAID           8   -1.75    v1_0   307664   \n29649  NUOS  2016-08-29          PAID           4  -38.49    v1_0   307664   \n29650  NUOS  2016-07-14          PAID           0   -0.59    v1_0   307662   \n29651  NUOS  2014-11-26          PAID           7  -10.46    v1_0   307662   \n29652  NUOS  2014-08-27          PAID           7    0.00    v1_0   307662   \n\n                        Fibre     LastUpdatedDate PropertyType  PostCode  \\\n0      EA983_54004586547-N-11 2017-09-11 10:44:00         RESI      2581   \n1      EA983_146001477792-N-3 2017-09-11 10:45:00         RESI      2581   \n2      EA983_50004634622-N-13 2017-09-11 09:27:00         RESI      2581   \n3       EA983_26004938352-N-3 2017-09-11 10:44:00         RESI      2581   \n4       EA983_26004938310-N-4 2017-09-11 10:44:00         RESI      2581   \n...                       ...                 ...          ...       ...   \n29648         CEN99573813-C-8 2017-09-18 13:13:00         RESI      2582   \n29649         CEN98648458-C-8 2017-09-18 13:13:00         RESI      2582   \n29650         CEN94977071-C-2 2017-09-18 13:14:00         RESI      2582   \n29651         CEN51544029-C-2 2017-09-18 13:14:00         RESI      2582   \n29652         CEN50642744-C-3 2017-09-18 13:14:00         RESI      2582   \n\n                                                 HashKey        date  Response  \n0      9057e3e8fc73f87b752b99e782400367c2ec2390358e72...  2021-10-16        -1  \n1      51ef88b3efa024e275f278889898e1717cdbaba58b8c52...  2021-10-16        -1  \n2      582e91375d8d54dbd5f60f7e32a84e1fa25c678e64ff7e...  2021-10-16        -1  \n3      342d3532b66d6a9ed253470d95a468ebe3da9122f241cd...  2021-10-16        -1  \n4      bf60bf55a245767b00dace0a2e467fe09587822575e3c5...  2021-10-16        -1  \n...                                                  ...         ...       ...  \n29648  c1b7a3cfd9da5aadbfed6845a65ead2d9f288de6893b9b...  2021-10-16      -368  \n29649  34e79972cc501cbdbe434cbb28bce4b3d0cd6b57729653...  2021-10-16      -378  \n29650  260b832faef041ba358c15077b3db8b7ed10855526b1cd...  2021-10-16      -424  \n29651  c43daf1377ee14c9b40c34a25eff9b49c03e613f830d33...  2021-10-16     -1020  \n29652  678b791b9cf52713965e06cb631f69db289eafe14dacd2...  2021-10-16     -1111  \n\n[29653 rows x 20 columns]",
      "text/html": "<div>\n<style scoped>\n    .dataframe tbody tr th:only-of-type {\n        vertical-align: middle;\n    }\n\n    .dataframe tbody tr th {\n        vertical-align: top;\n    }\n\n    .dataframe thead th {\n        text-align: right;\n    }\n</style>\n<table border=\"1\" class=\"dataframe\">\n  <thead>\n    <tr style=\"text-align: right;\">\n      <th></th>\n      <th>AccountID</th>\n      <th>CODE</th>\n      <th>ImplementedDate</th>\n      <th>ActiveIndicator</th>\n      <th>AccountType</th>\n      <th>Service</th>\n      <th>BU</th>\n      <th>RequestDate</th>\n      <th>AccountStatus</th>\n      <th>StatusCode</th>\n      <th>Amount</th>\n      <th>Version</th>\n      <th>AgentID</th>\n      <th>Fibre</th>\n      <th>LastUpdatedDate</th>\n      <th>PropertyType</th>\n      <th>PostCode</th>\n      <th>HashKey</th>\n      <th>date</th>\n      <th>Response</th>\n    </tr>\n  </thead>\n  <tbody>\n    <tr>\n      <th>0</th>\n      <td>415740</td>\n      <td>105</td>\n      <td>2017-09-05</td>\n      <td>1.0</td>\n      <td>B2B</td>\n      <td>ELE</td>\n      <td>NUOS</td>\n      <td>2017-09-04</td>\n      <td>PAID</td>\n      <td>8</td>\n      <td>3.31</td>\n      <td>v1_0</td>\n      <td>307312</td>\n      <td>EA983_54004586547-N-11</td>\n      <td>2017-09-11 10:44:00</td>\n      <td>RESI</td>\n      <td>2581</td>\n      <td>9057e3e8fc73f87b752b99e782400367c2ec2390358e72...</td>\n      <td>2021-10-16</td>\n      <td>-1</td>\n    </tr>\n    <tr>\n      <th>1</th>\n      <td>524218</td>\n      <td>105</td>\n      <td>2017-09-05</td>\n      <td>1.0</td>\n      <td>B2B</td>\n      <td>ELE</td>\n      <td>NUOS</td>\n      <td>2017-09-04</td>\n      <td>PAID</td>\n      <td>7</td>\n      <td>1.01</td>\n      <td>v1_0</td>\n      <td>307312</td>\n      <td>EA983_146001477792-N-3</td>\n      <td>2017-09-11 10:45:00</td>\n      <td>RESI</td>\n      <td>2581</td>\n      <td>51ef88b3efa024e275f278889898e1717cdbaba58b8c52...</td>\n      <td>2021-10-16</td>\n      <td>-1</td>\n    </tr>\n    <tr>\n      <th>2</th>\n      <td>632695</td>\n      <td>105</td>\n      <td>2017-09-05</td>\n      <td>1.0</td>\n      <td>B2B</td>\n      <td>ELE</td>\n      <td>NUOS</td>\n      <td>2017-09-04</td>\n      <td>PAID</td>\n      <td>3</td>\n      <td>0.09</td>\n      <td>v1_0</td>\n      <td>307312</td>\n      <td>EA983_50004634622-N-13</td>\n      <td>2017-09-11 09:27:00</td>\n      <td>RESI</td>\n      <td>2581</td>\n      <td>582e91375d8d54dbd5f60f7e32a84e1fa25c678e64ff7e...</td>\n      <td>2021-10-16</td>\n      <td>-1</td>\n    </tr>\n    <tr>\n      <th>3</th>\n      <td>10036</td>\n      <td>105</td>\n      <td>2017-09-05</td>\n      <td>1.0</td>\n      <td>B2B</td>\n      <td>ELE</td>\n      <td>NUOS</td>\n      <td>2017-09-04</td>\n      <td>PAID</td>\n      <td>2</td>\n      <td>1.04</td>\n      <td>v1_0</td>\n      <td>307312</td>\n      <td>EA983_26004938352-N-3</td>\n      <td>2017-09-11 10:44:00</td>\n      <td>RESI</td>\n      <td>2581</td>\n      <td>342d3532b66d6a9ed253470d95a468ebe3da9122f241cd...</td>\n      <td>2021-10-16</td>\n      <td>-1</td>\n    </tr>\n    <tr>\n      <th>4</th>\n      <td>10026</td>\n      <td>105</td>\n      <td>2017-09-05</td>\n      <td>1.0</td>\n      <td>B2B</td>\n      <td>ELE</td>\n      <td>NUOS</td>\n      <td>2017-09-04</td>\n      <td>PAID</td>\n      <td>3</td>\n      <td>13.12</td>\n      <td>v1_0</td>\n      <td>307312</td>\n      <td>EA983_26004938310-N-4</td>\n      <td>2017-09-11 10:44:00</td>\n      <td>RESI</td>\n      <td>2581</td>\n      <td>bf60bf55a245767b00dace0a2e467fe09587822575e3c5...</td>\n      <td>2021-10-16</td>\n      <td>-1</td>\n    </tr>\n    <tr>\n      <th>...</th>\n      <td>...</td>\n      <td>...</td>\n      <td>...</td>\n      <td>...</td>\n      <td>...</td>\n      <td>...</td>\n      <td>...</td>\n      <td>...</td>\n      <td>...</td>\n      <td>...</td>\n      <td>...</td>\n      <td>...</td>\n      <td>...</td>\n      <td>...</td>\n      <td>...</td>\n      <td>...</td>\n      <td>...</td>\n      <td>...</td>\n      <td>...</td>\n      <td>...</td>\n    </tr>\n    <tr>\n      <th>29648</th>\n      <td>10018</td>\n      <td>107</td>\n      <td>2017-09-11</td>\n      <td>1.0</td>\n      <td>B2B</td>\n      <td>ELE</td>\n      <td>NUOS</td>\n      <td>2016-09-08</td>\n      <td>PAID</td>\n      <td>8</td>\n      <td>-1.75</td>\n      <td>v1_0</td>\n      <td>307664</td>\n      <td>CEN99573813-C-8</td>\n      <td>2017-09-18 13:13:00</td>\n      <td>RESI</td>\n      <td>2582</td>\n      <td>c1b7a3cfd9da5aadbfed6845a65ead2d9f288de6893b9b...</td>\n      <td>2021-10-16</td>\n      <td>-368</td>\n    </tr>\n    <tr>\n      <th>29649</th>\n      <td>10047</td>\n      <td>107</td>\n      <td>2017-09-11</td>\n      <td>1.0</td>\n      <td>B2B</td>\n      <td>ELE</td>\n      <td>NUOS</td>\n      <td>2016-08-29</td>\n      <td>PAID</td>\n      <td>4</td>\n      <td>-38.49</td>\n      <td>v1_0</td>\n      <td>307664</td>\n      <td>CEN98648458-C-8</td>\n      <td>2017-09-18 13:13:00</td>\n      <td>RESI</td>\n      <td>2582</td>\n      <td>34e79972cc501cbdbe434cbb28bce4b3d0cd6b57729653...</td>\n      <td>2021-10-16</td>\n      <td>-378</td>\n    </tr>\n    <tr>\n      <th>29650</th>\n      <td>10039</td>\n      <td>107</td>\n      <td>2017-09-11</td>\n      <td>1.0</td>\n      <td>B2B</td>\n      <td>ELE</td>\n      <td>NUOS</td>\n      <td>2016-07-14</td>\n      <td>PAID</td>\n      <td>0</td>\n      <td>-0.59</td>\n      <td>v1_0</td>\n      <td>307662</td>\n      <td>CEN94977071-C-2</td>\n      <td>2017-09-18 13:14:00</td>\n      <td>RESI</td>\n      <td>2582</td>\n      <td>260b832faef041ba358c15077b3db8b7ed10855526b1cd...</td>\n      <td>2021-10-16</td>\n      <td>-424</td>\n    </tr>\n    <tr>\n      <th>29651</th>\n      <td>10037</td>\n      <td>107</td>\n      <td>2017-09-11</td>\n      <td>1.0</td>\n      <td>B2B</td>\n      <td>ELE</td>\n      <td>NUOS</td>\n      <td>2014-11-26</td>\n      <td>PAID</td>\n      <td>7</td>\n      <td>-10.46</td>\n      <td>v1_0</td>\n      <td>307662</td>\n      <td>CEN51544029-C-2</td>\n      <td>2017-09-18 13:14:00</td>\n      <td>RESI</td>\n      <td>2582</td>\n      <td>c43daf1377ee14c9b40c34a25eff9b49c03e613f830d33...</td>\n      <td>2021-10-16</td>\n      <td>-1020</td>\n    </tr>\n    <tr>\n      <th>29652</th>\n      <td>10074</td>\n      <td>107</td>\n      <td>2017-09-11</td>\n      <td>1.0</td>\n      <td>B2B</td>\n      <td>ELE</td>\n      <td>NUOS</td>\n      <td>2014-08-27</td>\n      <td>PAID</td>\n      <td>7</td>\n      <td>0.00</td>\n      <td>v1_0</td>\n      <td>307662</td>\n      <td>CEN50642744-C-3</td>\n      <td>2017-09-18 13:14:00</td>\n      <td>RESI</td>\n      <td>2582</td>\n      <td>678b791b9cf52713965e06cb631f69db289eafe14dacd2...</td>\n      <td>2021-10-16</td>\n      <td>-1111</td>\n    </tr>\n  </tbody>\n</table>\n<p>29653 rows × 20 columns</p>\n</div>"
     },
     "execution_count": 7,
     "metadata": {},
     "output_type": "execute_result"
    }
   ],
   "source": [
    "gold_df = spark.read.parquet(OUTPUT_PATH + \"gold\")\n",
    "calculate_response = gold_df.withColumn(\"Response\", F.datediff(F.col(\"RequestDate\"), F.col(\"ImplementedDate\")))\n",
    "calculate_response.createOrReplaceTempView(\"fastest_response\")\n",
    "\n",
    "fastest_response_query = \"\"\"\n",
    "                        SELECT *\n",
    "                        FROM fastest_response\n",
    "                        ORDER BY Response DESC\n",
    "                        \"\"\"\n",
    "fastest_response_df = spark.sql(fastest_response_query)\n",
    "# fastest_response_df.coalesce(1).write.csv(OUTPUT_PATH + 'response', sep=',', header=True, mode='overwrite')\n",
    "fastest_response_df.coalesce(1).write.option(\"maxRecordsPerFile\", 1000).json(OUTPUT_PATH + 'response', mode='overwrite')\n",
    "fastest_response_df.toPandas()"
   ],
   "metadata": {
    "collapsed": false,
    "pycharm": {
     "name": "#%%\n"
    }
   }
  }
 ],
 "metadata": {
  "kernelspec": {
   "display_name": "Python 3 (ipykernel)",
   "language": "python",
   "name": "python3"
  },
  "language_info": {
   "codemirror_mode": {
    "name": "ipython",
    "version": 3
   },
   "file_extension": ".py",
   "mimetype": "text/x-python",
   "name": "python",
   "nbconvert_exporter": "python",
   "pygments_lexer": "ipython3",
   "version": "3.8.9"
  }
 },
 "nbformat": 4,
 "nbformat_minor": 4
}