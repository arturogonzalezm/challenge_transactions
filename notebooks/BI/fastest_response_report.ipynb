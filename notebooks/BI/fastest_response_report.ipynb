{
 "cells": [
  {
   "cell_type": "code",
   "execution_count": 1,
   "metadata": {
    "collapsed": true,
    "jupyter": {
     "outputs_hidden": true
    }
   },
   "outputs": [],
   "source": [
    "OUTPUT_PATH = '../../data/'"
   ]
  },
  {
   "cell_type": "code",
   "execution_count": 2,
   "outputs": [],
   "source": [
    "%run '../../schema_definition/schema.py'"
   ],
   "metadata": {
    "collapsed": false,
    "pycharm": {
     "name": "#%%\n"
    }
   }
  },
  {
   "cell_type": "code",
   "execution_count": 3,
   "outputs": [],
   "source": [
    "import sys\n",
    "sys.path.insert(0, '../../')\n",
    "\n",
    "from schema_definition.schema import *"
   ],
   "metadata": {
    "collapsed": false,
    "pycharm": {
     "name": "#%%\n"
    }
   }
  },
  {
   "cell_type": "code",
   "execution_count": 4,
   "outputs": [
    {
     "name": "stderr",
     "output_type": "stream",
     "text": [
      "WARNING: An illegal reflective access operation has occurred\n",
      "WARNING: Illegal reflective access by org.apache.spark.unsafe.Platform (file:/Users/arturogonzalez/Documents/dev/spark-3.1.2-bin-hadoop3.2/jars/spark-unsafe_2.12-3.1.2.jar) to constructor java.nio.DirectByteBuffer(long,int)\n",
      "WARNING: Please consider reporting this to the maintainers of org.apache.spark.unsafe.Platform\n",
      "WARNING: Use --illegal-access=warn to enable warnings of further illegal reflective access operations\n",
      "WARNING: All illegal access operations will be denied in a future release\n",
      "21/10/16 04:14:33 WARN NativeCodeLoader: Unable to load native-hadoop library for your platform... using builtin-java classes where applicable\n",
      "Using Spark's default log4j profile: org/apache/spark/log4j-defaults.properties\n",
      "Setting default log level to \"WARN\".\n",
      "To adjust logging level use sc.setLogLevel(newLevel). For SparkR, use setLogLevel(newLevel).\n",
      "21/10/16 04:14:34 WARN Utils: Service 'SparkUI' could not bind on port 4040. Attempting port 4041.\n",
      "21/10/16 04:14:34 WARN Utils: Service 'SparkUI' could not bind on port 4041. Attempting port 4042.\n"
     ]
    },
    {
     "name": "stdout",
     "output_type": "stream",
     "text": [
      "Welcome to\n",
      "      ____              __\n",
      "     / __/__  ___ _____/ /__\n",
      "    _\\ \\/ _ \\/ _ `/ __/  '_/\n",
      "   /__ / .__/\\_,_/_/ /_/\\_\\   version 3.1.2\n",
      "      /_/\n",
      "\n",
      "Using Python version 3.8.9 (default, Aug 21 2021 15:53:23)\n",
      "Spark context Web UI available at http://localhost:4042\n",
      "Spark context available as 'sc' (master = local[*], app id = local-1634318074587).\n",
      "SparkSession available as 'spark'.\n"
     ]
    }
   ],
   "source": [
    "from pyspark.shell import spark\n",
    "from pyspark.sql import functions as F"
   ],
   "metadata": {
    "collapsed": false,
    "pycharm": {
     "name": "#%%\n"
    }
   }
  },
  {
   "cell_type": "markdown",
   "source": [
    "## List post codes based on fastest response\n",
    "***\n",
    "- Fastest response hint ( Refer columns Request date and implementation Date )"
   ],
   "metadata": {
    "collapsed": false,
    "pycharm": {
     "name": "#%% md\n"
    }
   }
  },
  {
   "cell_type": "code",
   "execution_count": 66,
   "outputs": [
    {
     "data": {
      "text/plain": "     PostCode  Response\n0        2081        -1\n1        2586        -1\n2        2582        -1\n3        2722        -1\n4        2587        -1\n..        ...       ...\n147      2582      -368\n148      2582      -378\n149      2582      -424\n150      2582     -1020\n151      2582     -1111\n\n[152 rows x 2 columns]",
      "text/html": "<div>\n<style scoped>\n    .dataframe tbody tr th:only-of-type {\n        vertical-align: middle;\n    }\n\n    .dataframe tbody tr th {\n        vertical-align: top;\n    }\n\n    .dataframe thead th {\n        text-align: right;\n    }\n</style>\n<table border=\"1\" class=\"dataframe\">\n  <thead>\n    <tr style=\"text-align: right;\">\n      <th></th>\n      <th>PostCode</th>\n      <th>Response</th>\n    </tr>\n  </thead>\n  <tbody>\n    <tr>\n      <th>0</th>\n      <td>2081</td>\n      <td>-1</td>\n    </tr>\n    <tr>\n      <th>1</th>\n      <td>2586</td>\n      <td>-1</td>\n    </tr>\n    <tr>\n      <th>2</th>\n      <td>2582</td>\n      <td>-1</td>\n    </tr>\n    <tr>\n      <th>3</th>\n      <td>2722</td>\n      <td>-1</td>\n    </tr>\n    <tr>\n      <th>4</th>\n      <td>2587</td>\n      <td>-1</td>\n    </tr>\n    <tr>\n      <th>...</th>\n      <td>...</td>\n      <td>...</td>\n    </tr>\n    <tr>\n      <th>147</th>\n      <td>2582</td>\n      <td>-368</td>\n    </tr>\n    <tr>\n      <th>148</th>\n      <td>2582</td>\n      <td>-378</td>\n    </tr>\n    <tr>\n      <th>149</th>\n      <td>2582</td>\n      <td>-424</td>\n    </tr>\n    <tr>\n      <th>150</th>\n      <td>2582</td>\n      <td>-1020</td>\n    </tr>\n    <tr>\n      <th>151</th>\n      <td>2582</td>\n      <td>-1111</td>\n    </tr>\n  </tbody>\n</table>\n<p>152 rows × 2 columns</p>\n</div>"
     },
     "execution_count": 66,
     "metadata": {},
     "output_type": "execute_result"
    }
   ],
   "source": [
    "gold_df = spark.read.parquet(OUTPUT_PATH + \"gold\")\n",
    "calculate_response = gold_df.withColumn(\"Response\", F.datediff(F.col(\"RequestDate\"), F.col(\"ImplementedDate\")))\n",
    "calculate_response.createOrReplaceTempView(\"fastest_response\")\n",
    "\n",
    "fastest_response_query = \"\"\"\n",
    "                        SELECT DISTINCT\n",
    "                        PostCode, Response\n",
    "                        FROM fastest_response\n",
    "                        ORDER BY Response DESC\n",
    "                        \"\"\"\n",
    "fastest_response_df = spark.sql(fastest_response_query)\n",
    "drop_date_column  = fastest_response_df.drop('date')\n",
    "drop_date_column.coalesce(1).write.option(\"maxRecordsPerFile\", 1000).json(OUTPUT_PATH + 'fastest_response', mode='overwrite')\n",
    "df = drop_date_column.toPandas()\n",
    "df"
   ],
   "metadata": {
    "collapsed": false,
    "pycharm": {
     "name": "#%%\n"
    }
   }
  },
  {
   "cell_type": "markdown",
   "source": [
    "## Response\n",
    "***"
   ],
   "metadata": {
    "collapsed": false,
    "pycharm": {
     "name": "#%% md\n"
    }
   }
  },
  {
   "cell_type": "markdown",
   "source": [
    "- When the number of events reach 1000, output the events to a JSON file."
   ],
   "metadata": {
    "collapsed": false
   }
  },
  {
   "cell_type": "code",
   "execution_count": 67,
   "outputs": [
    {
     "data": {
      "text/plain": "       AccountID  CODE ImplementedDate  ActiveIndicator AccountType Service  \\\n0          10041   543      2017-09-07              1.0         B2C     ELE   \n1          10026   543      2017-09-07              1.0         B2B     ELE   \n2          10081   543      2017-09-07              1.0         B2B     ELE   \n3          10043   105      2017-09-05              1.0         B2B     ELE   \n4          10005   105      2017-09-05              1.0         B2B     ELE   \n...          ...   ...             ...              ...         ...     ...   \n29636      10033   108      2017-09-08              1.0         B2B     ELE   \n29637      10049  1164      2017-09-11              1.0         B2B     ELE   \n29638      10021   543      2017-09-07              1.0         B2B     ELE   \n29639      10003   543      2017-09-07              1.0         B2B     ELE   \n29640      10013   543      2017-09-07              1.0         B2B     ELE   \n\n         BU RequestDate AccountStatus  StatusCode  Amount Version  AgentID  \\\n0      NUOS  2017-08-29          PAID           7   12.78    v1_0   307508   \n1      NUOS  2017-08-15          PAID           0    4.28    v1_0   307509   \n2      NUOS  2017-08-24          PAID           6   31.04    v1_0   307508   \n3      NUOS  2017-09-04          PAID           1    7.27    v1_0   307312   \n4      NUOS  2017-09-04          PAID           7    0.65    v1_0   307312   \n...     ...         ...           ...         ...     ...     ...      ...   \n29636  NUOS  2017-09-07          PAID           8    7.96    v1_0   307561   \n29637  NUOS  2017-08-03          PAID           6    0.00    v1_0   307676   \n29638  NUOS  2017-08-30          PAID           5    2.77    v1_0   307510   \n29639  NUOS  2017-08-25          PAID           4    3.51    v1_0   307510   \n29640  NUOS  2017-09-06          PAID           8    4.23    v1_0   307510   \n\n                        Fibre     LastUpdatedDate PropertyType  PostCode  \\\n0            EN122192582-N-12 2017-09-07 11:16:00         RESI      2587   \n1             EN121701122-N-3 2017-09-07 12:02:00         RESI      2587   \n2            EN122071667-N-12 2017-09-07 11:13:00         RESI      2587   \n3      EA983_158001245365-N-2 2017-09-11 09:25:00         BSME      2581   \n4       EA983_90003707292-N-1 2017-09-11 09:27:00         RESI      2581   \n...                       ...                 ...          ...       ...   \n29636          EN63320785-N-4 2017-09-13 09:06:00         RESI      2581   \n29637                1.14E+11 2017-09-14 11:12:00         RESI      2581   \n29638         EN122266899-N-5 2017-09-07 12:54:00         RESI      2587   \n29639        EN122117977-N-11 2017-09-07 12:39:00         RESI      2587   \n29640         EN122683476-N-8 2017-09-07 13:18:00         RESI      2587   \n\n                                                 HashKey  Response  \n0      3f0a010875ce3aafff08c3c9e95b9cdf3751961e4293be...        -9  \n1      60bf724767cdbcfb141684f2924ecd684af61eab92746d...       -23  \n2      aa67901dec4f1424fc2bc2cc3a8eb6bfa07561bf9ad075...       -14  \n3      f9f78dead2bf82664a3cca5bce3085ae74b8cb6fb43762...        -1  \n4      63f163ec77531fabb50bdbb6b64827c75a949ed6aa8fe7...        -1  \n...                                                  ...       ...  \n29636  8535b1d72260f90175823d960b2c992b1d9951818637f3...        -1  \n29637  1b31bf56e39f1f98d266afaaaec2d20b84d347fc2eb40d...       -39  \n29638  56a962ba319b7caff04cb8dac24f0f9d6f39d3dfe8fc7a...        -8  \n29639  9b0bf7a250f30d5fd79c6de1aa12ed2aa6d45ca84929e7...       -13  \n29640  641694cd57ee5f65ebbe675aa446c5435a5b41e036e8aa...        -1  \n\n[29641 rows x 19 columns]",
      "text/html": "<div>\n<style scoped>\n    .dataframe tbody tr th:only-of-type {\n        vertical-align: middle;\n    }\n\n    .dataframe tbody tr th {\n        vertical-align: top;\n    }\n\n    .dataframe thead th {\n        text-align: right;\n    }\n</style>\n<table border=\"1\" class=\"dataframe\">\n  <thead>\n    <tr style=\"text-align: right;\">\n      <th></th>\n      <th>AccountID</th>\n      <th>CODE</th>\n      <th>ImplementedDate</th>\n      <th>ActiveIndicator</th>\n      <th>AccountType</th>\n      <th>Service</th>\n      <th>BU</th>\n      <th>RequestDate</th>\n      <th>AccountStatus</th>\n      <th>StatusCode</th>\n      <th>Amount</th>\n      <th>Version</th>\n      <th>AgentID</th>\n      <th>Fibre</th>\n      <th>LastUpdatedDate</th>\n      <th>PropertyType</th>\n      <th>PostCode</th>\n      <th>HashKey</th>\n      <th>Response</th>\n    </tr>\n  </thead>\n  <tbody>\n    <tr>\n      <th>0</th>\n      <td>10041</td>\n      <td>543</td>\n      <td>2017-09-07</td>\n      <td>1.0</td>\n      <td>B2C</td>\n      <td>ELE</td>\n      <td>NUOS</td>\n      <td>2017-08-29</td>\n      <td>PAID</td>\n      <td>7</td>\n      <td>12.78</td>\n      <td>v1_0</td>\n      <td>307508</td>\n      <td>EN122192582-N-12</td>\n      <td>2017-09-07 11:16:00</td>\n      <td>RESI</td>\n      <td>2587</td>\n      <td>3f0a010875ce3aafff08c3c9e95b9cdf3751961e4293be...</td>\n      <td>-9</td>\n    </tr>\n    <tr>\n      <th>1</th>\n      <td>10026</td>\n      <td>543</td>\n      <td>2017-09-07</td>\n      <td>1.0</td>\n      <td>B2B</td>\n      <td>ELE</td>\n      <td>NUOS</td>\n      <td>2017-08-15</td>\n      <td>PAID</td>\n      <td>0</td>\n      <td>4.28</td>\n      <td>v1_0</td>\n      <td>307509</td>\n      <td>EN121701122-N-3</td>\n      <td>2017-09-07 12:02:00</td>\n      <td>RESI</td>\n      <td>2587</td>\n      <td>60bf724767cdbcfb141684f2924ecd684af61eab92746d...</td>\n      <td>-23</td>\n    </tr>\n    <tr>\n      <th>2</th>\n      <td>10081</td>\n      <td>543</td>\n      <td>2017-09-07</td>\n      <td>1.0</td>\n      <td>B2B</td>\n      <td>ELE</td>\n      <td>NUOS</td>\n      <td>2017-08-24</td>\n      <td>PAID</td>\n      <td>6</td>\n      <td>31.04</td>\n      <td>v1_0</td>\n      <td>307508</td>\n      <td>EN122071667-N-12</td>\n      <td>2017-09-07 11:13:00</td>\n      <td>RESI</td>\n      <td>2587</td>\n      <td>aa67901dec4f1424fc2bc2cc3a8eb6bfa07561bf9ad075...</td>\n      <td>-14</td>\n    </tr>\n    <tr>\n      <th>3</th>\n      <td>10043</td>\n      <td>105</td>\n      <td>2017-09-05</td>\n      <td>1.0</td>\n      <td>B2B</td>\n      <td>ELE</td>\n      <td>NUOS</td>\n      <td>2017-09-04</td>\n      <td>PAID</td>\n      <td>1</td>\n      <td>7.27</td>\n      <td>v1_0</td>\n      <td>307312</td>\n      <td>EA983_158001245365-N-2</td>\n      <td>2017-09-11 09:25:00</td>\n      <td>BSME</td>\n      <td>2581</td>\n      <td>f9f78dead2bf82664a3cca5bce3085ae74b8cb6fb43762...</td>\n      <td>-1</td>\n    </tr>\n    <tr>\n      <th>4</th>\n      <td>10005</td>\n      <td>105</td>\n      <td>2017-09-05</td>\n      <td>1.0</td>\n      <td>B2B</td>\n      <td>ELE</td>\n      <td>NUOS</td>\n      <td>2017-09-04</td>\n      <td>PAID</td>\n      <td>7</td>\n      <td>0.65</td>\n      <td>v1_0</td>\n      <td>307312</td>\n      <td>EA983_90003707292-N-1</td>\n      <td>2017-09-11 09:27:00</td>\n      <td>RESI</td>\n      <td>2581</td>\n      <td>63f163ec77531fabb50bdbb6b64827c75a949ed6aa8fe7...</td>\n      <td>-1</td>\n    </tr>\n    <tr>\n      <th>...</th>\n      <td>...</td>\n      <td>...</td>\n      <td>...</td>\n      <td>...</td>\n      <td>...</td>\n      <td>...</td>\n      <td>...</td>\n      <td>...</td>\n      <td>...</td>\n      <td>...</td>\n      <td>...</td>\n      <td>...</td>\n      <td>...</td>\n      <td>...</td>\n      <td>...</td>\n      <td>...</td>\n      <td>...</td>\n      <td>...</td>\n      <td>...</td>\n    </tr>\n    <tr>\n      <th>29636</th>\n      <td>10033</td>\n      <td>108</td>\n      <td>2017-09-08</td>\n      <td>1.0</td>\n      <td>B2B</td>\n      <td>ELE</td>\n      <td>NUOS</td>\n      <td>2017-09-07</td>\n      <td>PAID</td>\n      <td>8</td>\n      <td>7.96</td>\n      <td>v1_0</td>\n      <td>307561</td>\n      <td>EN63320785-N-4</td>\n      <td>2017-09-13 09:06:00</td>\n      <td>RESI</td>\n      <td>2581</td>\n      <td>8535b1d72260f90175823d960b2c992b1d9951818637f3...</td>\n      <td>-1</td>\n    </tr>\n    <tr>\n      <th>29637</th>\n      <td>10049</td>\n      <td>1164</td>\n      <td>2017-09-11</td>\n      <td>1.0</td>\n      <td>B2B</td>\n      <td>ELE</td>\n      <td>NUOS</td>\n      <td>2017-08-03</td>\n      <td>PAID</td>\n      <td>6</td>\n      <td>0.00</td>\n      <td>v1_0</td>\n      <td>307676</td>\n      <td>1.14E+11</td>\n      <td>2017-09-14 11:12:00</td>\n      <td>RESI</td>\n      <td>2581</td>\n      <td>1b31bf56e39f1f98d266afaaaec2d20b84d347fc2eb40d...</td>\n      <td>-39</td>\n    </tr>\n    <tr>\n      <th>29638</th>\n      <td>10021</td>\n      <td>543</td>\n      <td>2017-09-07</td>\n      <td>1.0</td>\n      <td>B2B</td>\n      <td>ELE</td>\n      <td>NUOS</td>\n      <td>2017-08-30</td>\n      <td>PAID</td>\n      <td>5</td>\n      <td>2.77</td>\n      <td>v1_0</td>\n      <td>307510</td>\n      <td>EN122266899-N-5</td>\n      <td>2017-09-07 12:54:00</td>\n      <td>RESI</td>\n      <td>2587</td>\n      <td>56a962ba319b7caff04cb8dac24f0f9d6f39d3dfe8fc7a...</td>\n      <td>-8</td>\n    </tr>\n    <tr>\n      <th>29639</th>\n      <td>10003</td>\n      <td>543</td>\n      <td>2017-09-07</td>\n      <td>1.0</td>\n      <td>B2B</td>\n      <td>ELE</td>\n      <td>NUOS</td>\n      <td>2017-08-25</td>\n      <td>PAID</td>\n      <td>4</td>\n      <td>3.51</td>\n      <td>v1_0</td>\n      <td>307510</td>\n      <td>EN122117977-N-11</td>\n      <td>2017-09-07 12:39:00</td>\n      <td>RESI</td>\n      <td>2587</td>\n      <td>9b0bf7a250f30d5fd79c6de1aa12ed2aa6d45ca84929e7...</td>\n      <td>-13</td>\n    </tr>\n    <tr>\n      <th>29640</th>\n      <td>10013</td>\n      <td>543</td>\n      <td>2017-09-07</td>\n      <td>1.0</td>\n      <td>B2B</td>\n      <td>ELE</td>\n      <td>NUOS</td>\n      <td>2017-09-06</td>\n      <td>PAID</td>\n      <td>8</td>\n      <td>4.23</td>\n      <td>v1_0</td>\n      <td>307510</td>\n      <td>EN122683476-N-8</td>\n      <td>2017-09-07 13:18:00</td>\n      <td>RESI</td>\n      <td>2587</td>\n      <td>641694cd57ee5f65ebbe675aa446c5435a5b41e036e8aa...</td>\n      <td>-1</td>\n    </tr>\n  </tbody>\n</table>\n<p>29641 rows × 19 columns</p>\n</div>"
     },
     "execution_count": 67,
     "metadata": {},
     "output_type": "execute_result"
    }
   ],
   "source": [
    "gold_df = spark.read.parquet(OUTPUT_PATH + \"gold\")\n",
    "calculate_response = gold_df.withColumn(\"Response\", F.datediff(F.col(\"RequestDate\"), F.col(\"ImplementedDate\")))\n",
    "calculate_response.createOrReplaceTempView(\"response\")\n",
    "\n",
    "fastest_response_query = \"\"\"\n",
    "                        SELECT DISTINCT\n",
    "                        *\n",
    "                        FROM response\n",
    "                        \"\"\"\n",
    "fastest_response_df = spark.sql(fastest_response_query)\n",
    "drop_date_column  = fastest_response_df.drop('date')\n",
    "drop_date_column.coalesce(1).write.option(\"maxRecordsPerFile\", 1000).json(OUTPUT_PATH + 'response', mode='overwrite')\n",
    "df = drop_date_column.toPandas()\n",
    "df"
   ],
   "metadata": {
    "collapsed": false,
    "pycharm": {
     "name": "#%%\n"
    }
   }
  }
 ],
 "metadata": {
  "kernelspec": {
   "display_name": "Python 3 (ipykernel)",
   "language": "python",
   "name": "python3"
  },
  "language_info": {
   "codemirror_mode": {
    "name": "ipython",
    "version": 3
   },
   "file_extension": ".py",
   "mimetype": "text/x-python",
   "name": "python",
   "nbconvert_exporter": "python",
   "pygments_lexer": "ipython3",
   "version": "3.8.9"
  }
 },
 "nbformat": 4,
 "nbformat_minor": 4
}