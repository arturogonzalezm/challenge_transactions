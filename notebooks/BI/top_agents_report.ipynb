{
 "cells": [
  {
   "cell_type": "code",
   "execution_count": 25,
   "outputs": [],
   "source": [
    "OUTPUT_PATH = '../../data/'"
   ],
   "metadata": {
    "collapsed": false,
    "pycharm": {
     "name": "#%%\n"
    }
   }
  },
  {
   "cell_type": "code",
   "execution_count": 26,
   "outputs": [],
   "source": [
    "%run '../schema_definition/schema.py'"
   ],
   "metadata": {
    "collapsed": false,
    "pycharm": {
     "name": "#%%\n"
    }
   }
  },
  {
   "cell_type": "code",
   "execution_count": 27,
   "outputs": [],
   "source": [
    "import sys\n",
    "\n",
    "sys.path.insert(0, '../../')\n",
    "\n",
    "from schema_definition.schema import *"
   ],
   "metadata": {
    "collapsed": false,
    "pycharm": {
     "name": "#%%\n"
    }
   }
  },
  {
   "cell_type": "code",
   "execution_count": 28,
   "outputs": [],
   "source": [
    "from pyspark.shell import spark"
   ],
   "metadata": {
    "collapsed": false,
    "pycharm": {
     "name": "#%%\n"
    }
   }
  },
  {
   "cell_type": "code",
   "execution_count": 29,
   "outputs": [
    {
     "data": {
      "text/plain": "    AgentID  PostCode  MaxAmount\n0    307511      2081    5378.03\n1    307507      2081    4216.00\n2    307564      2081    2770.24\n3    307662      2722    1274.57\n4    307509      2587    1130.50\n5    307510      2587     920.93\n6    307577      2081     763.04\n7    307508      2587     755.60\n8    307312      2581     742.36\n9    307510      2586     613.75\n10   307509      2586     613.75\n11   307662      2581     443.23\n12   307508      2586     333.61\n13   307562      2722     241.82\n14   306773      2584     188.60\n15   307561      2722     132.51\n16   307664      2581     104.11\n17   307664      2586      84.72\n18   307662      2586      84.72\n19   307506      2587      70.36\n20   307323      2581      68.70\n21   307561      2581      62.10\n22   307677      2581      57.58\n23   307562      2581      37.99\n24   307561      2626      22.18\n25   307396      2581       9.95\n26   307563      2581       9.90\n27   307681      2581       9.51\n28   307673      2581       8.60\n29   307675      2581       8.53\n30   307672      2581       7.38\n31   307663      2581       6.05\n32   307676      2581       4.38\n33   307674      2581       4.31\n34   307396      2582       0.09\n35   307508      2582       0.00\n36   307561      2582       0.00\n37   307312      2582       0.00\n38   307662      2582       0.00\n39   307509      2582       0.00\n40   307510      2582       0.00\n41   307563      2582      -0.22\n42   307663      2582      -0.48\n43   307562      2582      -1.26\n44   307664      2582      -1.75\n45   306773      2582    -118.05",
      "text/html": "<div>\n<style scoped>\n    .dataframe tbody tr th:only-of-type {\n        vertical-align: middle;\n    }\n\n    .dataframe tbody tr th {\n        vertical-align: top;\n    }\n\n    .dataframe thead th {\n        text-align: right;\n    }\n</style>\n<table border=\"1\" class=\"dataframe\">\n  <thead>\n    <tr style=\"text-align: right;\">\n      <th></th>\n      <th>AgentID</th>\n      <th>PostCode</th>\n      <th>MaxAmount</th>\n    </tr>\n  </thead>\n  <tbody>\n    <tr>\n      <th>0</th>\n      <td>307511</td>\n      <td>2081</td>\n      <td>5378.03</td>\n    </tr>\n    <tr>\n      <th>1</th>\n      <td>307507</td>\n      <td>2081</td>\n      <td>4216.00</td>\n    </tr>\n    <tr>\n      <th>2</th>\n      <td>307564</td>\n      <td>2081</td>\n      <td>2770.24</td>\n    </tr>\n    <tr>\n      <th>3</th>\n      <td>307662</td>\n      <td>2722</td>\n      <td>1274.57</td>\n    </tr>\n    <tr>\n      <th>4</th>\n      <td>307509</td>\n      <td>2587</td>\n      <td>1130.50</td>\n    </tr>\n    <tr>\n      <th>5</th>\n      <td>307510</td>\n      <td>2587</td>\n      <td>920.93</td>\n    </tr>\n    <tr>\n      <th>6</th>\n      <td>307577</td>\n      <td>2081</td>\n      <td>763.04</td>\n    </tr>\n    <tr>\n      <th>7</th>\n      <td>307508</td>\n      <td>2587</td>\n      <td>755.60</td>\n    </tr>\n    <tr>\n      <th>8</th>\n      <td>307312</td>\n      <td>2581</td>\n      <td>742.36</td>\n    </tr>\n    <tr>\n      <th>9</th>\n      <td>307510</td>\n      <td>2586</td>\n      <td>613.75</td>\n    </tr>\n    <tr>\n      <th>10</th>\n      <td>307509</td>\n      <td>2586</td>\n      <td>613.75</td>\n    </tr>\n    <tr>\n      <th>11</th>\n      <td>307662</td>\n      <td>2581</td>\n      <td>443.23</td>\n    </tr>\n    <tr>\n      <th>12</th>\n      <td>307508</td>\n      <td>2586</td>\n      <td>333.61</td>\n    </tr>\n    <tr>\n      <th>13</th>\n      <td>307562</td>\n      <td>2722</td>\n      <td>241.82</td>\n    </tr>\n    <tr>\n      <th>14</th>\n      <td>306773</td>\n      <td>2584</td>\n      <td>188.60</td>\n    </tr>\n    <tr>\n      <th>15</th>\n      <td>307561</td>\n      <td>2722</td>\n      <td>132.51</td>\n    </tr>\n    <tr>\n      <th>16</th>\n      <td>307664</td>\n      <td>2581</td>\n      <td>104.11</td>\n    </tr>\n    <tr>\n      <th>17</th>\n      <td>307664</td>\n      <td>2586</td>\n      <td>84.72</td>\n    </tr>\n    <tr>\n      <th>18</th>\n      <td>307662</td>\n      <td>2586</td>\n      <td>84.72</td>\n    </tr>\n    <tr>\n      <th>19</th>\n      <td>307506</td>\n      <td>2587</td>\n      <td>70.36</td>\n    </tr>\n    <tr>\n      <th>20</th>\n      <td>307323</td>\n      <td>2581</td>\n      <td>68.70</td>\n    </tr>\n    <tr>\n      <th>21</th>\n      <td>307561</td>\n      <td>2581</td>\n      <td>62.10</td>\n    </tr>\n    <tr>\n      <th>22</th>\n      <td>307677</td>\n      <td>2581</td>\n      <td>57.58</td>\n    </tr>\n    <tr>\n      <th>23</th>\n      <td>307562</td>\n      <td>2581</td>\n      <td>37.99</td>\n    </tr>\n    <tr>\n      <th>24</th>\n      <td>307561</td>\n      <td>2626</td>\n      <td>22.18</td>\n    </tr>\n    <tr>\n      <th>25</th>\n      <td>307396</td>\n      <td>2581</td>\n      <td>9.95</td>\n    </tr>\n    <tr>\n      <th>26</th>\n      <td>307563</td>\n      <td>2581</td>\n      <td>9.90</td>\n    </tr>\n    <tr>\n      <th>27</th>\n      <td>307681</td>\n      <td>2581</td>\n      <td>9.51</td>\n    </tr>\n    <tr>\n      <th>28</th>\n      <td>307673</td>\n      <td>2581</td>\n      <td>8.60</td>\n    </tr>\n    <tr>\n      <th>29</th>\n      <td>307675</td>\n      <td>2581</td>\n      <td>8.53</td>\n    </tr>\n    <tr>\n      <th>30</th>\n      <td>307672</td>\n      <td>2581</td>\n      <td>7.38</td>\n    </tr>\n    <tr>\n      <th>31</th>\n      <td>307663</td>\n      <td>2581</td>\n      <td>6.05</td>\n    </tr>\n    <tr>\n      <th>32</th>\n      <td>307676</td>\n      <td>2581</td>\n      <td>4.38</td>\n    </tr>\n    <tr>\n      <th>33</th>\n      <td>307674</td>\n      <td>2581</td>\n      <td>4.31</td>\n    </tr>\n    <tr>\n      <th>34</th>\n      <td>307396</td>\n      <td>2582</td>\n      <td>0.09</td>\n    </tr>\n    <tr>\n      <th>35</th>\n      <td>307508</td>\n      <td>2582</td>\n      <td>0.00</td>\n    </tr>\n    <tr>\n      <th>36</th>\n      <td>307561</td>\n      <td>2582</td>\n      <td>0.00</td>\n    </tr>\n    <tr>\n      <th>37</th>\n      <td>307312</td>\n      <td>2582</td>\n      <td>0.00</td>\n    </tr>\n    <tr>\n      <th>38</th>\n      <td>307662</td>\n      <td>2582</td>\n      <td>0.00</td>\n    </tr>\n    <tr>\n      <th>39</th>\n      <td>307509</td>\n      <td>2582</td>\n      <td>0.00</td>\n    </tr>\n    <tr>\n      <th>40</th>\n      <td>307510</td>\n      <td>2582</td>\n      <td>0.00</td>\n    </tr>\n    <tr>\n      <th>41</th>\n      <td>307563</td>\n      <td>2582</td>\n      <td>-0.22</td>\n    </tr>\n    <tr>\n      <th>42</th>\n      <td>307663</td>\n      <td>2582</td>\n      <td>-0.48</td>\n    </tr>\n    <tr>\n      <th>43</th>\n      <td>307562</td>\n      <td>2582</td>\n      <td>-1.26</td>\n    </tr>\n    <tr>\n      <th>44</th>\n      <td>307664</td>\n      <td>2582</td>\n      <td>-1.75</td>\n    </tr>\n    <tr>\n      <th>45</th>\n      <td>306773</td>\n      <td>2582</td>\n      <td>-118.05</td>\n    </tr>\n  </tbody>\n</table>\n</div>"
     },
     "execution_count": 29,
     "metadata": {},
     "output_type": "execute_result"
    }
   ],
   "source": [
    "gold_df = spark.read.json(OUTPUT_PATH + 'gold/*.json', schema=gold_schema)\n",
    "\n",
    "gold_df.createOrReplaceTempView(\"top_agents\")\n",
    "top_agents_query = \"\"\"\n",
    "                    SELECT AgentID, PostCode, max(Amount) AS MaxAmount\n",
    "                    FROM top_agents\n",
    "                    GROUP BY AgentID, PostCode\n",
    "                    ORDER BY MaxAmount DESC;\n",
    "                   \"\"\"\n",
    "top_agents_df = spark.sql(top_agents_query)\n",
    "top_agents_df.toPandas()"
   ],
   "metadata": {
    "collapsed": false,
    "pycharm": {
     "name": "#%%\n"
    }
   }
  }
 ],
 "metadata": {
  "kernelspec": {
   "display_name": "Python 3",
   "language": "python",
   "name": "python3"
  },
  "language_info": {
   "codemirror_mode": {
    "name": "ipython",
    "version": 2
   },
   "file_extension": ".py",
   "mimetype": "text/x-python",
   "name": "python",
   "nbconvert_exporter": "python",
   "pygments_lexer": "ipython2",
   "version": "2.7.6"
  }
 },
 "nbformat": 4,
 "nbformat_minor": 0
}