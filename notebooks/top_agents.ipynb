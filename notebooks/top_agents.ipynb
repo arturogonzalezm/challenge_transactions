{
 "cells": [
  {
   "cell_type": "code",
   "execution_count": 4,
   "outputs": [],
   "source": [
    "RAW_FILE_PATH = '../../data/raw/Transaction.csv'\n",
    "OUTPUT_PATH = '../../data/'\n",
    "\n"
   ],
   "metadata": {
    "collapsed": false,
    "pycharm": {
     "name": "#%%\n"
    }
   }
  },
  {
   "cell_type": "code",
   "execution_count": 6,
   "outputs": [],
   "source": [
    "%run '../../schema_definition/schema.py'"
   ],
   "metadata": {
    "collapsed": false,
    "pycharm": {
     "name": "#%%\n"
    }
   }
  },
  {
   "cell_type": "code",
   "execution_count": 7,
   "outputs": [],
   "source": [
    "import sys\n",
    "\n",
    "sys.path.insert(0, '../../')\n",
    "\n",
    "from schema_definition.schema import *"
   ],
   "metadata": {
    "collapsed": false,
    "pycharm": {
     "name": "#%%\n"
    }
   }
  },
  {
   "cell_type": "code",
   "execution_count": 8,
   "outputs": [
    {
     "name": "stderr",
     "output_type": "stream",
     "text": [
      "WARNING: An illegal reflective access operation has occurred\n",
      "WARNING: Illegal reflective access by org.apache.spark.unsafe.Platform (file:/Users/arturogonzalez/Documents/dev/spark-3.1.2-bin-hadoop3.2/jars/spark-unsafe_2.12-3.1.2.jar) to constructor java.nio.DirectByteBuffer(long,int)\n",
      "WARNING: Please consider reporting this to the maintainers of org.apache.spark.unsafe.Platform\n",
      "WARNING: Use --illegal-access=warn to enable warnings of further illegal reflective access operations\n",
      "WARNING: All illegal access operations will be denied in a future release\n",
      "21/10/16 02:34:57 WARN NativeCodeLoader: Unable to load native-hadoop library for your platform... using builtin-java classes where applicable\n",
      "Using Spark's default log4j profile: org/apache/spark/log4j-defaults.properties\n",
      "Setting default log level to \"WARN\".\n",
      "To adjust logging level use sc.setLogLevel(newLevel). For SparkR, use setLogLevel(newLevel).\n",
      "21/10/16 02:34:57 WARN Utils: Service 'SparkUI' could not bind on port 4040. Attempting port 4041.\n",
      "21/10/16 02:34:57 WARN Utils: Service 'SparkUI' could not bind on port 4041. Attempting port 4042.\n"
     ]
    },
    {
     "name": "stdout",
     "output_type": "stream",
     "text": [
      "Welcome to\n",
      "      ____              __\n",
      "     / __/__  ___ _____/ /__\n",
      "    _\\ \\/ _ \\/ _ `/ __/  '_/\n",
      "   /__ / .__/\\_,_/_/ /_/\\_\\   version 3.1.2\n",
      "      /_/\n",
      "\n",
      "Using Python version 3.8.9 (default, Aug 21 2021 15:53:23)\n",
      "Spark context Web UI available at http://localhost:4042\n",
      "Spark context available as 'sc' (master = local[*], app id = local-1634312097760).\n",
      "SparkSession available as 'spark'.\n"
     ]
    }
   ],
   "source": [
    "from pyspark.shell import spark"
   ],
   "metadata": {
    "collapsed": false,
    "pycharm": {
     "name": "#%%\n"
    }
   }
  },
  {
   "cell_type": "code",
   "execution_count": 9,
   "outputs": [
    {
     "name": "stdout",
     "output_type": "stream",
     "text": [
      "+-------+--------+---------+\n",
      "|AgentID|PostCode|MaxAmount|\n",
      "+-------+--------+---------+\n",
      "|307511 |2081    |5378.03  |\n",
      "|307507 |2081    |4216.0   |\n",
      "|307564 |2081    |2770.24  |\n",
      "|307662 |2722    |1274.57  |\n",
      "|307509 |2587    |1130.5   |\n",
      "|307510 |2587    |920.93   |\n",
      "|307577 |2081    |763.04   |\n",
      "|307508 |2587    |755.6    |\n",
      "|307312 |2581    |742.36   |\n",
      "|307510 |2586    |613.75   |\n",
      "|307509 |2586    |613.75   |\n",
      "|307662 |2581    |443.23   |\n",
      "|307508 |2586    |333.61   |\n",
      "|307562 |2722    |241.82   |\n",
      "|306773 |2584    |188.6    |\n",
      "|307561 |2722    |132.51   |\n",
      "|307664 |2581    |104.11   |\n",
      "|307662 |2586    |84.72    |\n",
      "|307664 |2586    |84.72    |\n",
      "|307506 |2587    |70.36    |\n",
      "|307323 |2581    |68.7     |\n",
      "|307561 |2581    |62.1     |\n",
      "|307677 |2581    |57.58    |\n",
      "|307562 |2581    |37.99    |\n",
      "|307561 |2626    |22.18    |\n",
      "|307396 |2581    |9.95     |\n",
      "|307563 |2581    |9.9      |\n",
      "|307681 |2581    |9.51     |\n",
      "|307673 |2581    |8.6      |\n",
      "|307675 |2581    |8.53     |\n",
      "|307672 |2581    |7.38     |\n",
      "|307663 |2581    |6.05     |\n",
      "|307676 |2581    |4.38     |\n",
      "|307674 |2581    |4.31     |\n",
      "|307396 |2582    |0.09     |\n",
      "|307561 |2582    |0.0      |\n",
      "|307508 |2582    |0.0      |\n",
      "|307312 |2582    |0.0      |\n",
      "|307510 |2582    |0.0      |\n",
      "|307662 |2582    |0.0      |\n",
      "|307509 |2582    |0.0      |\n",
      "|307563 |2582    |-0.22    |\n",
      "|307663 |2582    |-0.48    |\n",
      "|307562 |2582    |-1.26    |\n",
      "|307664 |2582    |-1.75    |\n",
      "|306773 |2582    |-118.05  |\n",
      "+-------+--------+---------+\n",
      "\n"
     ]
    }
   ],
   "source": [
    "gold_df = spark.read.json(OUTPUT_PATH + 'gold/*.json', schema=gold_schema)\n",
    "\n",
    "gold_df.createOrReplaceTempView(\"top_agents\")\n",
    "top_agents_query = \"\"\"\n",
    "                    SELECT AgentID, PostCode, max(Amount) AS MaxAmount\n",
    "                    FROM top_agents\n",
    "                    GROUP BY AgentID, PostCode\n",
    "                    ORDER BY MaxAmount DESC;\n",
    "                   \"\"\"\n",
    "top_agents_df = spark.sql(top_agents_query)\n",
    "top_agents_df.show(200, truncate=False)"
   ],
   "metadata": {
    "collapsed": false,
    "pycharm": {
     "name": "#%%\n"
    }
   }
  }
 ],
 "metadata": {
  "kernelspec": {
   "display_name": "Python 3",
   "language": "python",
   "name": "python3"
  },
  "language_info": {
   "codemirror_mode": {
    "name": "ipython",
    "version": 2
   },
   "file_extension": ".py",
   "mimetype": "text/x-python",
   "name": "python",
   "nbconvert_exporter": "python",
   "pygments_lexer": "ipython2",
   "version": "2.7.6"
  }
 },
 "nbformat": 4,
 "nbformat_minor": 0
}