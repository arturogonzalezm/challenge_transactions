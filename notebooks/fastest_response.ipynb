{
 "cells": [
  {
   "cell_type": "code",
   "execution_count": 54,
   "metadata": {
    "collapsed": true,
    "jupyter": {
     "outputs_hidden": true
    }
   },
   "outputs": [],
   "source": [
    "OUTPUT_PATH = '../../data/'"
   ]
  },
  {
   "cell_type": "code",
   "execution_count": 55,
   "outputs": [],
   "source": [
    "%run '../schema_definition/schema.py'"
   ],
   "metadata": {
    "collapsed": false,
    "pycharm": {
     "name": "#%%\n"
    }
   }
  },
  {
   "cell_type": "code",
   "execution_count": 56,
   "outputs": [],
   "source": [
    "import sys\n",
    "sys.path.insert(0, '../../')\n",
    "\n",
    "from schema_definition.schema import *"
   ],
   "metadata": {
    "collapsed": false,
    "pycharm": {
     "name": "#%%\n"
    }
   }
  },
  {
   "cell_type": "code",
   "execution_count": 57,
   "outputs": [],
   "source": [
    "from pyspark.shell import spark\n",
    "from pyspark.sql import functions as F"
   ],
   "metadata": {
    "collapsed": false,
    "pycharm": {
     "name": "#%%\n"
    }
   }
  },
  {
   "cell_type": "code",
   "execution_count": 58,
   "outputs": [
    {
     "data": {
      "text/plain": "       AccountID  CODE ImplementedDate  ActiveIndicator AccountType Service  \\\n0          10046   105      2017-09-05              1.0         B2B     ELE   \n1          10066   105      2017-09-05              1.0         B2B     ELE   \n2          10035   105      2017-09-05              1.0         B2B     ELE   \n3          10045   105      2017-09-05              1.0         B2B     ELE   \n4          10040   105      2017-09-05              1.0         B2B     ELE   \n...          ...   ...             ...              ...         ...     ...   \n29648      10018   107      2017-09-11              1.0         B2B     ELE   \n29649      10047   107      2017-09-11              1.0         B2B     ELE   \n29650      10039   107      2017-09-11              1.0         B2B     ELE   \n29651      10037   107      2017-09-11              1.0         B2B     ELE   \n29652      10074   107      2017-09-11              1.0         B2B     ELE   \n\n         BU RequestDate AccountStatus  StatusCode  Amount Version  AgentID  \\\n0      NUOS  2017-09-04          PAID           6    0.00    v1_0   307312   \n1      NUOS  2017-09-04          PAID           5    0.00    v1_0   307312   \n2      NUOS  2017-09-04          PAID           5   21.44    v1_0   307312   \n3      NUOS  2017-09-04          PAID           8    2.12    v1_0   307312   \n4      NUOS  2017-09-04          PAID           8    4.15    v1_0   307312   \n...     ...         ...           ...         ...     ...     ...      ...   \n29648  NUOS  2016-09-08          PAID           8   -1.75    v1_0   307664   \n29649  NUOS  2016-08-29          PAID           4  -38.49    v1_0   307664   \n29650  NUOS  2016-07-14          PAID           0   -0.59    v1_0   307662   \n29651  NUOS  2014-11-26          PAID           7  -10.46    v1_0   307662   \n29652  NUOS  2014-08-27          PAID           7    0.00    v1_0   307662   \n\n                         Fibre     LastUpdatedDate PropertyType  PostCode  \\\n0       EA983_74004197612-N-11 2017-09-11 08:53:00         RESI      2581   \n1       EA983_78004104538-N-11 2017-09-11 09:25:00         RESI      2581   \n2       EA983_602200346738-N-5 2017-11-29 12:43:00         RESI      2581   \n3      EA983_146001477714-N-10 2017-09-11 10:35:00         RESI      2581   \n4        EA983_18005025353-N-1 2017-09-11 10:44:00         RESI      2581   \n...                        ...                 ...          ...       ...   \n29648          CEN99573813-C-8 2017-09-18 13:13:00         RESI      2582   \n29649          CEN98648458-C-8 2017-09-18 13:13:00         RESI      2582   \n29650          CEN94977071-C-2 2017-09-18 13:14:00         RESI      2582   \n29651          CEN51544029-C-2 2017-09-18 13:14:00         RESI      2582   \n29652          CEN50642744-C-3 2017-09-18 13:14:00         RESI      2582   \n\n                                                 HashKey  Response  \n0      19e635adb1867a76addf356de890d7497199057b6af787...        -1  \n1      782974fe34aaaed7094ee399e9d592f17bc1b181da3f06...        -1  \n2      b0356a3a9934382308ce87e9cdafa7d8921064d68a9198...        -1  \n3      4dde7d9824a93ea8841b81833ced5c54d5283485f400e1...        -1  \n4      d717bb2d12b4da07f912803c6b2c5714438d43d2e4d32e...        -1  \n...                                                  ...       ...  \n29648  c1b7a3cfd9da5aadbfed6845a65ead2d9f288de6893b9b...      -368  \n29649  34e79972cc501cbdbe434cbb28bce4b3d0cd6b57729653...      -378  \n29650  260b832faef041ba358c15077b3db8b7ed10855526b1cd...      -424  \n29651  c43daf1377ee14c9b40c34a25eff9b49c03e613f830d33...     -1020  \n29652  678b791b9cf52713965e06cb631f69db289eafe14dacd2...     -1111  \n\n[29653 rows x 19 columns]",
      "text/html": "<div>\n<style scoped>\n    .dataframe tbody tr th:only-of-type {\n        vertical-align: middle;\n    }\n\n    .dataframe tbody tr th {\n        vertical-align: top;\n    }\n\n    .dataframe thead th {\n        text-align: right;\n    }\n</style>\n<table border=\"1\" class=\"dataframe\">\n  <thead>\n    <tr style=\"text-align: right;\">\n      <th></th>\n      <th>AccountID</th>\n      <th>CODE</th>\n      <th>ImplementedDate</th>\n      <th>ActiveIndicator</th>\n      <th>AccountType</th>\n      <th>Service</th>\n      <th>BU</th>\n      <th>RequestDate</th>\n      <th>AccountStatus</th>\n      <th>StatusCode</th>\n      <th>Amount</th>\n      <th>Version</th>\n      <th>AgentID</th>\n      <th>Fibre</th>\n      <th>LastUpdatedDate</th>\n      <th>PropertyType</th>\n      <th>PostCode</th>\n      <th>HashKey</th>\n      <th>Response</th>\n    </tr>\n  </thead>\n  <tbody>\n    <tr>\n      <th>0</th>\n      <td>10046</td>\n      <td>105</td>\n      <td>2017-09-05</td>\n      <td>1.0</td>\n      <td>B2B</td>\n      <td>ELE</td>\n      <td>NUOS</td>\n      <td>2017-09-04</td>\n      <td>PAID</td>\n      <td>6</td>\n      <td>0.00</td>\n      <td>v1_0</td>\n      <td>307312</td>\n      <td>EA983_74004197612-N-11</td>\n      <td>2017-09-11 08:53:00</td>\n      <td>RESI</td>\n      <td>2581</td>\n      <td>19e635adb1867a76addf356de890d7497199057b6af787...</td>\n      <td>-1</td>\n    </tr>\n    <tr>\n      <th>1</th>\n      <td>10066</td>\n      <td>105</td>\n      <td>2017-09-05</td>\n      <td>1.0</td>\n      <td>B2B</td>\n      <td>ELE</td>\n      <td>NUOS</td>\n      <td>2017-09-04</td>\n      <td>PAID</td>\n      <td>5</td>\n      <td>0.00</td>\n      <td>v1_0</td>\n      <td>307312</td>\n      <td>EA983_78004104538-N-11</td>\n      <td>2017-09-11 09:25:00</td>\n      <td>RESI</td>\n      <td>2581</td>\n      <td>782974fe34aaaed7094ee399e9d592f17bc1b181da3f06...</td>\n      <td>-1</td>\n    </tr>\n    <tr>\n      <th>2</th>\n      <td>10035</td>\n      <td>105</td>\n      <td>2017-09-05</td>\n      <td>1.0</td>\n      <td>B2B</td>\n      <td>ELE</td>\n      <td>NUOS</td>\n      <td>2017-09-04</td>\n      <td>PAID</td>\n      <td>5</td>\n      <td>21.44</td>\n      <td>v1_0</td>\n      <td>307312</td>\n      <td>EA983_602200346738-N-5</td>\n      <td>2017-11-29 12:43:00</td>\n      <td>RESI</td>\n      <td>2581</td>\n      <td>b0356a3a9934382308ce87e9cdafa7d8921064d68a9198...</td>\n      <td>-1</td>\n    </tr>\n    <tr>\n      <th>3</th>\n      <td>10045</td>\n      <td>105</td>\n      <td>2017-09-05</td>\n      <td>1.0</td>\n      <td>B2B</td>\n      <td>ELE</td>\n      <td>NUOS</td>\n      <td>2017-09-04</td>\n      <td>PAID</td>\n      <td>8</td>\n      <td>2.12</td>\n      <td>v1_0</td>\n      <td>307312</td>\n      <td>EA983_146001477714-N-10</td>\n      <td>2017-09-11 10:35:00</td>\n      <td>RESI</td>\n      <td>2581</td>\n      <td>4dde7d9824a93ea8841b81833ced5c54d5283485f400e1...</td>\n      <td>-1</td>\n    </tr>\n    <tr>\n      <th>4</th>\n      <td>10040</td>\n      <td>105</td>\n      <td>2017-09-05</td>\n      <td>1.0</td>\n      <td>B2B</td>\n      <td>ELE</td>\n      <td>NUOS</td>\n      <td>2017-09-04</td>\n      <td>PAID</td>\n      <td>8</td>\n      <td>4.15</td>\n      <td>v1_0</td>\n      <td>307312</td>\n      <td>EA983_18005025353-N-1</td>\n      <td>2017-09-11 10:44:00</td>\n      <td>RESI</td>\n      <td>2581</td>\n      <td>d717bb2d12b4da07f912803c6b2c5714438d43d2e4d32e...</td>\n      <td>-1</td>\n    </tr>\n    <tr>\n      <th>...</th>\n      <td>...</td>\n      <td>...</td>\n      <td>...</td>\n      <td>...</td>\n      <td>...</td>\n      <td>...</td>\n      <td>...</td>\n      <td>...</td>\n      <td>...</td>\n      <td>...</td>\n      <td>...</td>\n      <td>...</td>\n      <td>...</td>\n      <td>...</td>\n      <td>...</td>\n      <td>...</td>\n      <td>...</td>\n      <td>...</td>\n      <td>...</td>\n    </tr>\n    <tr>\n      <th>29648</th>\n      <td>10018</td>\n      <td>107</td>\n      <td>2017-09-11</td>\n      <td>1.0</td>\n      <td>B2B</td>\n      <td>ELE</td>\n      <td>NUOS</td>\n      <td>2016-09-08</td>\n      <td>PAID</td>\n      <td>8</td>\n      <td>-1.75</td>\n      <td>v1_0</td>\n      <td>307664</td>\n      <td>CEN99573813-C-8</td>\n      <td>2017-09-18 13:13:00</td>\n      <td>RESI</td>\n      <td>2582</td>\n      <td>c1b7a3cfd9da5aadbfed6845a65ead2d9f288de6893b9b...</td>\n      <td>-368</td>\n    </tr>\n    <tr>\n      <th>29649</th>\n      <td>10047</td>\n      <td>107</td>\n      <td>2017-09-11</td>\n      <td>1.0</td>\n      <td>B2B</td>\n      <td>ELE</td>\n      <td>NUOS</td>\n      <td>2016-08-29</td>\n      <td>PAID</td>\n      <td>4</td>\n      <td>-38.49</td>\n      <td>v1_0</td>\n      <td>307664</td>\n      <td>CEN98648458-C-8</td>\n      <td>2017-09-18 13:13:00</td>\n      <td>RESI</td>\n      <td>2582</td>\n      <td>34e79972cc501cbdbe434cbb28bce4b3d0cd6b57729653...</td>\n      <td>-378</td>\n    </tr>\n    <tr>\n      <th>29650</th>\n      <td>10039</td>\n      <td>107</td>\n      <td>2017-09-11</td>\n      <td>1.0</td>\n      <td>B2B</td>\n      <td>ELE</td>\n      <td>NUOS</td>\n      <td>2016-07-14</td>\n      <td>PAID</td>\n      <td>0</td>\n      <td>-0.59</td>\n      <td>v1_0</td>\n      <td>307662</td>\n      <td>CEN94977071-C-2</td>\n      <td>2017-09-18 13:14:00</td>\n      <td>RESI</td>\n      <td>2582</td>\n      <td>260b832faef041ba358c15077b3db8b7ed10855526b1cd...</td>\n      <td>-424</td>\n    </tr>\n    <tr>\n      <th>29651</th>\n      <td>10037</td>\n      <td>107</td>\n      <td>2017-09-11</td>\n      <td>1.0</td>\n      <td>B2B</td>\n      <td>ELE</td>\n      <td>NUOS</td>\n      <td>2014-11-26</td>\n      <td>PAID</td>\n      <td>7</td>\n      <td>-10.46</td>\n      <td>v1_0</td>\n      <td>307662</td>\n      <td>CEN51544029-C-2</td>\n      <td>2017-09-18 13:14:00</td>\n      <td>RESI</td>\n      <td>2582</td>\n      <td>c43daf1377ee14c9b40c34a25eff9b49c03e613f830d33...</td>\n      <td>-1020</td>\n    </tr>\n    <tr>\n      <th>29652</th>\n      <td>10074</td>\n      <td>107</td>\n      <td>2017-09-11</td>\n      <td>1.0</td>\n      <td>B2B</td>\n      <td>ELE</td>\n      <td>NUOS</td>\n      <td>2014-08-27</td>\n      <td>PAID</td>\n      <td>7</td>\n      <td>0.00</td>\n      <td>v1_0</td>\n      <td>307662</td>\n      <td>CEN50642744-C-3</td>\n      <td>2017-09-18 13:14:00</td>\n      <td>RESI</td>\n      <td>2582</td>\n      <td>678b791b9cf52713965e06cb631f69db289eafe14dacd2...</td>\n      <td>-1111</td>\n    </tr>\n  </tbody>\n</table>\n<p>29653 rows × 19 columns</p>\n</div>"
     },
     "execution_count": 58,
     "metadata": {},
     "output_type": "execute_result"
    }
   ],
   "source": [
    "gold_df = spark.read.json(OUTPUT_PATH + \"gold\", gold_schema)\n",
    "calculate_response = gold_df.withColumn(\"Response\", F.datediff(F.col(\"RequestDate\"), F.col(\"ImplementedDate\")))\n",
    "calculate_response.createOrReplaceTempView(\"fastest_response\")\n",
    "\n",
    "fastest_response_query = \"\"\"\n",
    "                        SELECT *\n",
    "                        FROM fastest_response\n",
    "                        ORDER BY Response DESC\n",
    "                        \"\"\"\n",
    "fastest_response_df = spark.sql(fastest_response_query)\n",
    "fastest_response_df.coalesce(1).write.csv(OUTPUT_PATH + 'response', sep=',', header=True, mode='overwrite')\n",
    "fastest_response_df.toPandas()"
   ],
   "metadata": {
    "collapsed": false,
    "pycharm": {
     "name": "#%%\n"
    }
   }
  }
 ],
 "metadata": {
  "kernelspec": {
   "display_name": "Python 3 (ipykernel)",
   "language": "python",
   "name": "python3"
  },
  "language_info": {
   "codemirror_mode": {
    "name": "ipython",
    "version": 3
   },
   "file_extension": ".py",
   "mimetype": "text/x-python",
   "name": "python",
   "nbconvert_exporter": "python",
   "pygments_lexer": "ipython3",
   "version": "3.8.9"
  }
 },
 "nbformat": 4,
 "nbformat_minor": 4
}