{
 "cells": [
  {
   "cell_type": "markdown",
   "source": [
    "## ETL Pipelines ##\n",
    "***"
   ],
   "metadata": {
    "collapsed": false,
    "pycharm": {
     "name": "#%% md\n"
    }
   }
  },
  {
   "cell_type": "markdown",
   "source": [
    "Call RAW Transaction.csv file, as well as output file path."
   ],
   "metadata": {
    "collapsed": false,
    "pycharm": {
     "name": "#%% md\n"
    }
   }
  },
  {
   "cell_type": "code",
   "execution_count": 17,
   "outputs": [],
   "source": [
    "RAW_FILE_PATH = '../../data/raw/Transaction.csv'\n",
    "OUTPUT_PATH = '../../data/'"
   ],
   "metadata": {
    "collapsed": false,
    "pycharm": {
     "name": "#%%\n"
    }
   }
  },
  {
   "cell_type": "markdown",
   "source": [
    "Run schema definitions"
   ],
   "metadata": {
    "collapsed": false,
    "pycharm": {
     "name": "#%% md\n"
    }
   }
  },
  {
   "cell_type": "code",
   "execution_count": 18,
   "metadata": {},
   "outputs": [],
   "source": [
    "%run '../../schema_definition/schema.py'"
   ]
  },
  {
   "cell_type": "markdown",
   "source": [
    "Import schema definitions"
   ],
   "metadata": {
    "collapsed": false,
    "pycharm": {
     "name": "#%% md\n"
    }
   }
  },
  {
   "cell_type": "code",
   "execution_count": 19,
   "metadata": {},
   "outputs": [],
   "source": [
    "import sys  \n",
    "sys.path.insert(0, '../../')\n",
    "\n",
    "from schema_definition.schema import *"
   ]
  },
  {
   "cell_type": "markdown",
   "source": [
    "Import Pyspark related libraries"
   ],
   "metadata": {
    "collapsed": false,
    "pycharm": {
     "name": "#%% md\n"
    }
   }
  },
  {
   "cell_type": "code",
   "execution_count": 20,
   "metadata": {},
   "outputs": [],
   "source": [
    "from pyspark.shell import spark\n",
    "from pyspark.sql.types import *\n",
    "from pyspark.sql import functions as F"
   ]
  },
  {
   "cell_type": "markdown",
   "source": [
    "Create a user defined function to add timestamp to ouput folder names."
   ],
   "metadata": {
    "collapsed": false,
    "pycharm": {
     "name": "#%% md\n"
    }
   }
  },
  {
   "cell_type": "code",
   "execution_count": 21,
   "outputs": [
    {
     "name": "stderr",
     "output_type": "stream",
     "text": [
      "21/10/16 12:33:24 WARN SimpleFunctionRegistry: The function file_processed_date replaced a previously registered function.\n"
     ]
    },
    {
     "data": {
      "text/plain": "<function __main__.file_processed_date()>"
     },
     "execution_count": 21,
     "metadata": {},
     "output_type": "execute_result"
    }
   ],
   "source": [
    "from datetime import datetime\n",
    "\n",
    "def file_processed_date():\n",
    "    return datetime.now().strftime(\"%Y-%m-%d\")\n",
    "\n",
    "spark.udf.register(\"file_processed_date\", file_processed_date, TimestampType())"
   ],
   "metadata": {
    "collapsed": false,
    "pycharm": {
     "name": "#%%\n"
    }
   }
  },
  {
   "cell_type": "markdown",
   "source": [
    "This variable enables legacy TimeStamp datatype conversion"
   ],
   "metadata": {
    "collapsed": false,
    "pycharm": {
     "name": "#%% md\n"
    }
   }
  },
  {
   "cell_type": "code",
   "execution_count": 22,
   "metadata": {},
   "outputs": [
    {
     "data": {
      "text/plain": "DataFrame[key: string, value: string]"
     },
     "execution_count": 22,
     "metadata": {},
     "output_type": "execute_result"
    }
   ],
   "source": [
    "spark.sql(\"set spark.sql.legacy.timeParserPolicy=LEGACY\")"
   ]
  },
  {
   "cell_type": "markdown",
   "source": [
    "### BRONZE ###\n",
    "***"
   ],
   "metadata": {
    "collapsed": false
   }
  },
  {
   "cell_type": "markdown",
   "source": [
    "This paragraph will read/extract the data from the Transaction.csv file, force the schema to the default 17 columns and write onto a\n",
    "tab separated csv file."
   ],
   "metadata": {
    "collapsed": false,
    "pycharm": {
     "name": "#%% md\n"
    }
   }
  },
  {
   "cell_type": "code",
   "execution_count": 23,
   "metadata": {
    "collapsed": false,
    "jupyter": {
     "outputs_hidden": false
    },
    "pycharm": {
     "name": "#%%\n"
    }
   },
   "outputs": [
    {
     "name": "stderr",
     "output_type": "stream",
     "text": [
      "21/10/16 12:33:24 WARN CSVHeaderChecker: Number of column in CSV header is not equal to number of fields in the schema:\n",
      " Header length: 19, schema size: 17\n",
      "CSV file: file:///Users/arturogonzalez/DataspellProjects/transactions_notebooks/data/raw/Transaction.csv\n",
      "21/10/16 12:33:25 WARN CSVHeaderChecker: Number of column in CSV header is not equal to number of fields in the schema:\n",
      " Header length: 19, schema size: 17\n",
      "CSV file: file:///Users/arturogonzalez/DataspellProjects/transactions_notebooks/data/raw/Transaction.csv\n"
     ]
    },
    {
     "data": {
      "text/plain": "       AccountID  CODE ImplementedDate  ActiveIndicator AccountType Service  \\\n0        15368.0   543  7/09/2017 0:00              1.0         B2B     ELE   \n1        23232.0   543  7/09/2017 0:00              1.0         B2B     ELE   \n2       232323.0   543  7/09/2017 0:00              1.0         B2B     ELE   \n3       307263.0   543  7/09/2017 0:00              1.0         B2B     ELE   \n4       415740.0   105  5/09/2017 0:00              1.0         B2B     ELE   \n...          ...   ...             ...              ...         ...     ...   \n30315    10078.0   543  7/09/2017 0:00              1.0         B2B     ELE   \n30316    10095.0   543  7/09/2017 0:00              1.0         B2B     ELE   \n30317    10036.0   543  7/09/2017 0:00              1.0         B2B     ELE   \n30318    10053.0   543  7/09/2017 0:00              1.0         B2B     ELE   \n30319    10018.0   543  7/09/2017 0:00              1.0         B2B     ELE   \n\n         BU      RequestDate AccountStatus  StatusCode  Amount Version  \\\n0      NUOS  17/08/2017 0:00          PAID           8    3.94    v1_0   \n1      NUOS  10/08/2017 0:00          PAID           7  126.96    v1_0   \n2      NUOS   9/08/2017 0:00          PAID           6   15.43    v1_0   \n3      NUOS   9/08/2017 0:00          PAID           6    3.49    v1_0   \n4      NUOS   4/09/2017 0:00          PAID           8    3.31    v1_0   \n...     ...              ...           ...         ...     ...     ...   \n30315  NUOS  28/08/2017 0:00          PAID           7    6.92    v1_0   \n30316  NUOS  29/08/2017 0:00          PAID           1    0.46    v1_0   \n30317  NUOS  29/08/2017 0:00          PAID           7    8.53    v1_0   \n30318  NUOS  29/08/2017 0:00          PAID           8    7.44    v1_0   \n30319  NUOS  30/08/2017 0:00          REVR           3    0.17    v1_0   \n\n       AgentID                   Fibre   LastUpdatedDate PropertyType  \\\n0       307508         EN121794032-N-5   7/09/2017 11:09         RESI   \n1       307508        EN121542407-N-12   7/09/2017 11:04         RESI   \n2       307508         EN121491293-N-9   7/09/2017 11:05         RESI   \n3       307508        EN121491293-N-13   7/09/2017 11:05         RESI   \n4       307312  EA983_54004586547-N-11  11/09/2017 10:44         RESI   \n...        ...                     ...               ...          ...   \n30315   307510        EN122165150-N-15   7/09/2017 12:44         RESI   \n30316   307510         EN122228188-N-5   7/09/2017 12:48         RESI   \n30317   307510         EN122231542-N-9   7/09/2017 12:48         RESI   \n30318   307510         EN122225528-N-9   7/09/2017 12:48         RESI   \n30319   307510         EN122240363-N-7   7/09/2017 12:52         RESI   \n\n       PostCode  \n0          2587  \n1          2587  \n2          2587  \n3          2587  \n4          2581  \n...         ...  \n30315      2587  \n30316      2587  \n30317      2587  \n30318      2587  \n30319      2587  \n\n[30320 rows x 17 columns]",
      "text/html": "<div>\n<style scoped>\n    .dataframe tbody tr th:only-of-type {\n        vertical-align: middle;\n    }\n\n    .dataframe tbody tr th {\n        vertical-align: top;\n    }\n\n    .dataframe thead th {\n        text-align: right;\n    }\n</style>\n<table border=\"1\" class=\"dataframe\">\n  <thead>\n    <tr style=\"text-align: right;\">\n      <th></th>\n      <th>AccountID</th>\n      <th>CODE</th>\n      <th>ImplementedDate</th>\n      <th>ActiveIndicator</th>\n      <th>AccountType</th>\n      <th>Service</th>\n      <th>BU</th>\n      <th>RequestDate</th>\n      <th>AccountStatus</th>\n      <th>StatusCode</th>\n      <th>Amount</th>\n      <th>Version</th>\n      <th>AgentID</th>\n      <th>Fibre</th>\n      <th>LastUpdatedDate</th>\n      <th>PropertyType</th>\n      <th>PostCode</th>\n    </tr>\n  </thead>\n  <tbody>\n    <tr>\n      <th>0</th>\n      <td>15368.0</td>\n      <td>543</td>\n      <td>7/09/2017 0:00</td>\n      <td>1.0</td>\n      <td>B2B</td>\n      <td>ELE</td>\n      <td>NUOS</td>\n      <td>17/08/2017 0:00</td>\n      <td>PAID</td>\n      <td>8</td>\n      <td>3.94</td>\n      <td>v1_0</td>\n      <td>307508</td>\n      <td>EN121794032-N-5</td>\n      <td>7/09/2017 11:09</td>\n      <td>RESI</td>\n      <td>2587</td>\n    </tr>\n    <tr>\n      <th>1</th>\n      <td>23232.0</td>\n      <td>543</td>\n      <td>7/09/2017 0:00</td>\n      <td>1.0</td>\n      <td>B2B</td>\n      <td>ELE</td>\n      <td>NUOS</td>\n      <td>10/08/2017 0:00</td>\n      <td>PAID</td>\n      <td>7</td>\n      <td>126.96</td>\n      <td>v1_0</td>\n      <td>307508</td>\n      <td>EN121542407-N-12</td>\n      <td>7/09/2017 11:04</td>\n      <td>RESI</td>\n      <td>2587</td>\n    </tr>\n    <tr>\n      <th>2</th>\n      <td>232323.0</td>\n      <td>543</td>\n      <td>7/09/2017 0:00</td>\n      <td>1.0</td>\n      <td>B2B</td>\n      <td>ELE</td>\n      <td>NUOS</td>\n      <td>9/08/2017 0:00</td>\n      <td>PAID</td>\n      <td>6</td>\n      <td>15.43</td>\n      <td>v1_0</td>\n      <td>307508</td>\n      <td>EN121491293-N-9</td>\n      <td>7/09/2017 11:05</td>\n      <td>RESI</td>\n      <td>2587</td>\n    </tr>\n    <tr>\n      <th>3</th>\n      <td>307263.0</td>\n      <td>543</td>\n      <td>7/09/2017 0:00</td>\n      <td>1.0</td>\n      <td>B2B</td>\n      <td>ELE</td>\n      <td>NUOS</td>\n      <td>9/08/2017 0:00</td>\n      <td>PAID</td>\n      <td>6</td>\n      <td>3.49</td>\n      <td>v1_0</td>\n      <td>307508</td>\n      <td>EN121491293-N-13</td>\n      <td>7/09/2017 11:05</td>\n      <td>RESI</td>\n      <td>2587</td>\n    </tr>\n    <tr>\n      <th>4</th>\n      <td>415740.0</td>\n      <td>105</td>\n      <td>5/09/2017 0:00</td>\n      <td>1.0</td>\n      <td>B2B</td>\n      <td>ELE</td>\n      <td>NUOS</td>\n      <td>4/09/2017 0:00</td>\n      <td>PAID</td>\n      <td>8</td>\n      <td>3.31</td>\n      <td>v1_0</td>\n      <td>307312</td>\n      <td>EA983_54004586547-N-11</td>\n      <td>11/09/2017 10:44</td>\n      <td>RESI</td>\n      <td>2581</td>\n    </tr>\n    <tr>\n      <th>...</th>\n      <td>...</td>\n      <td>...</td>\n      <td>...</td>\n      <td>...</td>\n      <td>...</td>\n      <td>...</td>\n      <td>...</td>\n      <td>...</td>\n      <td>...</td>\n      <td>...</td>\n      <td>...</td>\n      <td>...</td>\n      <td>...</td>\n      <td>...</td>\n      <td>...</td>\n      <td>...</td>\n      <td>...</td>\n    </tr>\n    <tr>\n      <th>30315</th>\n      <td>10078.0</td>\n      <td>543</td>\n      <td>7/09/2017 0:00</td>\n      <td>1.0</td>\n      <td>B2B</td>\n      <td>ELE</td>\n      <td>NUOS</td>\n      <td>28/08/2017 0:00</td>\n      <td>PAID</td>\n      <td>7</td>\n      <td>6.92</td>\n      <td>v1_0</td>\n      <td>307510</td>\n      <td>EN122165150-N-15</td>\n      <td>7/09/2017 12:44</td>\n      <td>RESI</td>\n      <td>2587</td>\n    </tr>\n    <tr>\n      <th>30316</th>\n      <td>10095.0</td>\n      <td>543</td>\n      <td>7/09/2017 0:00</td>\n      <td>1.0</td>\n      <td>B2B</td>\n      <td>ELE</td>\n      <td>NUOS</td>\n      <td>29/08/2017 0:00</td>\n      <td>PAID</td>\n      <td>1</td>\n      <td>0.46</td>\n      <td>v1_0</td>\n      <td>307510</td>\n      <td>EN122228188-N-5</td>\n      <td>7/09/2017 12:48</td>\n      <td>RESI</td>\n      <td>2587</td>\n    </tr>\n    <tr>\n      <th>30317</th>\n      <td>10036.0</td>\n      <td>543</td>\n      <td>7/09/2017 0:00</td>\n      <td>1.0</td>\n      <td>B2B</td>\n      <td>ELE</td>\n      <td>NUOS</td>\n      <td>29/08/2017 0:00</td>\n      <td>PAID</td>\n      <td>7</td>\n      <td>8.53</td>\n      <td>v1_0</td>\n      <td>307510</td>\n      <td>EN122231542-N-9</td>\n      <td>7/09/2017 12:48</td>\n      <td>RESI</td>\n      <td>2587</td>\n    </tr>\n    <tr>\n      <th>30318</th>\n      <td>10053.0</td>\n      <td>543</td>\n      <td>7/09/2017 0:00</td>\n      <td>1.0</td>\n      <td>B2B</td>\n      <td>ELE</td>\n      <td>NUOS</td>\n      <td>29/08/2017 0:00</td>\n      <td>PAID</td>\n      <td>8</td>\n      <td>7.44</td>\n      <td>v1_0</td>\n      <td>307510</td>\n      <td>EN122225528-N-9</td>\n      <td>7/09/2017 12:48</td>\n      <td>RESI</td>\n      <td>2587</td>\n    </tr>\n    <tr>\n      <th>30319</th>\n      <td>10018.0</td>\n      <td>543</td>\n      <td>7/09/2017 0:00</td>\n      <td>1.0</td>\n      <td>B2B</td>\n      <td>ELE</td>\n      <td>NUOS</td>\n      <td>30/08/2017 0:00</td>\n      <td>REVR</td>\n      <td>3</td>\n      <td>0.17</td>\n      <td>v1_0</td>\n      <td>307510</td>\n      <td>EN122240363-N-7</td>\n      <td>7/09/2017 12:52</td>\n      <td>RESI</td>\n      <td>2587</td>\n    </tr>\n  </tbody>\n</table>\n<p>30320 rows × 17 columns</p>\n</div>"
     },
     "execution_count": 23,
     "metadata": {},
     "output_type": "execute_result"
    }
   ],
   "source": [
    "raw_df = spark.read.csv(RAW_FILE_PATH, sep=',', header=True, schema=bronze_schema, enforceSchema=True)\n",
    "raw_df.write.format(\"parquet\").mode(\"overwrite\").save(OUTPUT_PATH + 'bronze/' + 'date' + '=' + file_processed_date())\n",
    "raw_df.toPandas()"
   ]
  },
  {
   "cell_type": "markdown",
   "source": [
    "### SILVER ###\n",
    "***"
   ],
   "metadata": {
    "collapsed": false,
    "pycharm": {
     "name": "#%% md\n"
    }
   }
  },
  {
   "cell_type": "markdown",
   "source": [
    "- Augment the data with a hash key.\n",
    "- Filter out the questionable data.\n",
    "- Apply DataTypes.\n",
    "- Cleaned.\n"
   ],
   "metadata": {
    "collapsed": false
   }
  },
  {
   "cell_type": "code",
   "execution_count": 24,
   "metadata": {},
   "outputs": [
    {
     "data": {
      "text/plain": "       AccountID  CODE ImplementedDate  ActiveIndicator AccountType Service  \\\n0          15368   543      2017-09-07              1.0         B2B     ELE   \n1          23232   543      2017-09-07              1.0         B2B     ELE   \n2         232323   543      2017-09-07              1.0         B2B     ELE   \n3         307263   543      2017-09-07              1.0         B2B     ELE   \n4         415740   105      2017-09-05              1.0         B2B     ELE   \n...          ...   ...             ...              ...         ...     ...   \n29636      10078   543      2017-09-07              1.0         B2B     ELE   \n29637      10095   543      2017-09-07              1.0         B2B     ELE   \n29638      10036   543      2017-09-07              1.0         B2B     ELE   \n29639      10053   543      2017-09-07              1.0         B2B     ELE   \n29640      10018   543      2017-09-07              1.0         B2B     ELE   \n\n         BU RequestDate AccountStatus  StatusCode  Amount Version  AgentID  \\\n0      NUOS  2017-08-17          PAID           8    3.94    v1_0   307508   \n1      NUOS  2017-08-10          PAID           7  126.96    v1_0   307508   \n2      NUOS  2017-08-09          PAID           6   15.43    v1_0   307508   \n3      NUOS  2017-08-09          PAID           6    3.49    v1_0   307508   \n4      NUOS  2017-09-04          PAID           8    3.31    v1_0   307312   \n...     ...         ...           ...         ...     ...     ...      ...   \n29636  NUOS  2017-08-28          PAID           7    6.92    v1_0   307510   \n29637  NUOS  2017-08-29          PAID           1    0.46    v1_0   307510   \n29638  NUOS  2017-08-29          PAID           7    8.53    v1_0   307510   \n29639  NUOS  2017-08-29          PAID           8    7.44    v1_0   307510   \n29640  NUOS  2017-08-30          REVR           3    0.17    v1_0   307510   \n\n                        Fibre     LastUpdatedDate PropertyType  PostCode  \\\n0             EN121794032-N-5 2017-09-07 11:09:00         RESI      2587   \n1            EN121542407-N-12 2017-09-07 11:04:00         RESI      2587   \n2             EN121491293-N-9 2017-09-07 11:05:00         RESI      2587   \n3            EN121491293-N-13 2017-09-07 11:05:00         RESI      2587   \n4      EA983_54004586547-N-11 2017-09-11 10:44:00         RESI      2581   \n...                       ...                 ...          ...       ...   \n29636        EN122165150-N-15 2017-09-07 12:44:00         RESI      2587   \n29637         EN122228188-N-5 2017-09-07 12:48:00         RESI      2587   \n29638         EN122231542-N-9 2017-09-07 12:48:00         RESI      2587   \n29639         EN122225528-N-9 2017-09-07 12:48:00         RESI      2587   \n29640         EN122240363-N-7 2017-09-07 12:52:00         RESI      2587   \n\n                                                 HashKey  \n0      ae52557431727f096d968da7265c14abeb3bb3afa0fb4a...  \n1      e4aad9f5903db9c97d5991d49f50e986b086e4c5343ca9...  \n2      6e463c062b46ce88656b7971c482bb5489b9e012214848...  \n3      6e2f04ff85422285e6cfe08508144b47262c77a590dee3...  \n4      9057e3e8fc73f87b752b99e782400367c2ec2390358e72...  \n...                                                  ...  \n29636  e6a92b6e6004c91e49608b9e9910abbb7644c3294acd6a...  \n29637  a620f509f0657fd9a9e10f2b1db5645dd3bd518f1bcb2a...  \n29638  39ba2d4d960ac2baf636a187ad2e18eea7470aa5f1d94e...  \n29639  7a531111b3b8f0efe538d47cf521d2fd95475824e623da...  \n29640  2d5f84c81d0cecc04aa847c49aa28b284c287a18585e83...  \n\n[29641 rows x 18 columns]",
      "text/html": "<div>\n<style scoped>\n    .dataframe tbody tr th:only-of-type {\n        vertical-align: middle;\n    }\n\n    .dataframe tbody tr th {\n        vertical-align: top;\n    }\n\n    .dataframe thead th {\n        text-align: right;\n    }\n</style>\n<table border=\"1\" class=\"dataframe\">\n  <thead>\n    <tr style=\"text-align: right;\">\n      <th></th>\n      <th>AccountID</th>\n      <th>CODE</th>\n      <th>ImplementedDate</th>\n      <th>ActiveIndicator</th>\n      <th>AccountType</th>\n      <th>Service</th>\n      <th>BU</th>\n      <th>RequestDate</th>\n      <th>AccountStatus</th>\n      <th>StatusCode</th>\n      <th>Amount</th>\n      <th>Version</th>\n      <th>AgentID</th>\n      <th>Fibre</th>\n      <th>LastUpdatedDate</th>\n      <th>PropertyType</th>\n      <th>PostCode</th>\n      <th>HashKey</th>\n    </tr>\n  </thead>\n  <tbody>\n    <tr>\n      <th>0</th>\n      <td>15368</td>\n      <td>543</td>\n      <td>2017-09-07</td>\n      <td>1.0</td>\n      <td>B2B</td>\n      <td>ELE</td>\n      <td>NUOS</td>\n      <td>2017-08-17</td>\n      <td>PAID</td>\n      <td>8</td>\n      <td>3.94</td>\n      <td>v1_0</td>\n      <td>307508</td>\n      <td>EN121794032-N-5</td>\n      <td>2017-09-07 11:09:00</td>\n      <td>RESI</td>\n      <td>2587</td>\n      <td>ae52557431727f096d968da7265c14abeb3bb3afa0fb4a...</td>\n    </tr>\n    <tr>\n      <th>1</th>\n      <td>23232</td>\n      <td>543</td>\n      <td>2017-09-07</td>\n      <td>1.0</td>\n      <td>B2B</td>\n      <td>ELE</td>\n      <td>NUOS</td>\n      <td>2017-08-10</td>\n      <td>PAID</td>\n      <td>7</td>\n      <td>126.96</td>\n      <td>v1_0</td>\n      <td>307508</td>\n      <td>EN121542407-N-12</td>\n      <td>2017-09-07 11:04:00</td>\n      <td>RESI</td>\n      <td>2587</td>\n      <td>e4aad9f5903db9c97d5991d49f50e986b086e4c5343ca9...</td>\n    </tr>\n    <tr>\n      <th>2</th>\n      <td>232323</td>\n      <td>543</td>\n      <td>2017-09-07</td>\n      <td>1.0</td>\n      <td>B2B</td>\n      <td>ELE</td>\n      <td>NUOS</td>\n      <td>2017-08-09</td>\n      <td>PAID</td>\n      <td>6</td>\n      <td>15.43</td>\n      <td>v1_0</td>\n      <td>307508</td>\n      <td>EN121491293-N-9</td>\n      <td>2017-09-07 11:05:00</td>\n      <td>RESI</td>\n      <td>2587</td>\n      <td>6e463c062b46ce88656b7971c482bb5489b9e012214848...</td>\n    </tr>\n    <tr>\n      <th>3</th>\n      <td>307263</td>\n      <td>543</td>\n      <td>2017-09-07</td>\n      <td>1.0</td>\n      <td>B2B</td>\n      <td>ELE</td>\n      <td>NUOS</td>\n      <td>2017-08-09</td>\n      <td>PAID</td>\n      <td>6</td>\n      <td>3.49</td>\n      <td>v1_0</td>\n      <td>307508</td>\n      <td>EN121491293-N-13</td>\n      <td>2017-09-07 11:05:00</td>\n      <td>RESI</td>\n      <td>2587</td>\n      <td>6e2f04ff85422285e6cfe08508144b47262c77a590dee3...</td>\n    </tr>\n    <tr>\n      <th>4</th>\n      <td>415740</td>\n      <td>105</td>\n      <td>2017-09-05</td>\n      <td>1.0</td>\n      <td>B2B</td>\n      <td>ELE</td>\n      <td>NUOS</td>\n      <td>2017-09-04</td>\n      <td>PAID</td>\n      <td>8</td>\n      <td>3.31</td>\n      <td>v1_0</td>\n      <td>307312</td>\n      <td>EA983_54004586547-N-11</td>\n      <td>2017-09-11 10:44:00</td>\n      <td>RESI</td>\n      <td>2581</td>\n      <td>9057e3e8fc73f87b752b99e782400367c2ec2390358e72...</td>\n    </tr>\n    <tr>\n      <th>...</th>\n      <td>...</td>\n      <td>...</td>\n      <td>...</td>\n      <td>...</td>\n      <td>...</td>\n      <td>...</td>\n      <td>...</td>\n      <td>...</td>\n      <td>...</td>\n      <td>...</td>\n      <td>...</td>\n      <td>...</td>\n      <td>...</td>\n      <td>...</td>\n      <td>...</td>\n      <td>...</td>\n      <td>...</td>\n      <td>...</td>\n    </tr>\n    <tr>\n      <th>29636</th>\n      <td>10078</td>\n      <td>543</td>\n      <td>2017-09-07</td>\n      <td>1.0</td>\n      <td>B2B</td>\n      <td>ELE</td>\n      <td>NUOS</td>\n      <td>2017-08-28</td>\n      <td>PAID</td>\n      <td>7</td>\n      <td>6.92</td>\n      <td>v1_0</td>\n      <td>307510</td>\n      <td>EN122165150-N-15</td>\n      <td>2017-09-07 12:44:00</td>\n      <td>RESI</td>\n      <td>2587</td>\n      <td>e6a92b6e6004c91e49608b9e9910abbb7644c3294acd6a...</td>\n    </tr>\n    <tr>\n      <th>29637</th>\n      <td>10095</td>\n      <td>543</td>\n      <td>2017-09-07</td>\n      <td>1.0</td>\n      <td>B2B</td>\n      <td>ELE</td>\n      <td>NUOS</td>\n      <td>2017-08-29</td>\n      <td>PAID</td>\n      <td>1</td>\n      <td>0.46</td>\n      <td>v1_0</td>\n      <td>307510</td>\n      <td>EN122228188-N-5</td>\n      <td>2017-09-07 12:48:00</td>\n      <td>RESI</td>\n      <td>2587</td>\n      <td>a620f509f0657fd9a9e10f2b1db5645dd3bd518f1bcb2a...</td>\n    </tr>\n    <tr>\n      <th>29638</th>\n      <td>10036</td>\n      <td>543</td>\n      <td>2017-09-07</td>\n      <td>1.0</td>\n      <td>B2B</td>\n      <td>ELE</td>\n      <td>NUOS</td>\n      <td>2017-08-29</td>\n      <td>PAID</td>\n      <td>7</td>\n      <td>8.53</td>\n      <td>v1_0</td>\n      <td>307510</td>\n      <td>EN122231542-N-9</td>\n      <td>2017-09-07 12:48:00</td>\n      <td>RESI</td>\n      <td>2587</td>\n      <td>39ba2d4d960ac2baf636a187ad2e18eea7470aa5f1d94e...</td>\n    </tr>\n    <tr>\n      <th>29639</th>\n      <td>10053</td>\n      <td>543</td>\n      <td>2017-09-07</td>\n      <td>1.0</td>\n      <td>B2B</td>\n      <td>ELE</td>\n      <td>NUOS</td>\n      <td>2017-08-29</td>\n      <td>PAID</td>\n      <td>8</td>\n      <td>7.44</td>\n      <td>v1_0</td>\n      <td>307510</td>\n      <td>EN122225528-N-9</td>\n      <td>2017-09-07 12:48:00</td>\n      <td>RESI</td>\n      <td>2587</td>\n      <td>7a531111b3b8f0efe538d47cf521d2fd95475824e623da...</td>\n    </tr>\n    <tr>\n      <th>29640</th>\n      <td>10018</td>\n      <td>543</td>\n      <td>2017-09-07</td>\n      <td>1.0</td>\n      <td>B2B</td>\n      <td>ELE</td>\n      <td>NUOS</td>\n      <td>2017-08-30</td>\n      <td>REVR</td>\n      <td>3</td>\n      <td>0.17</td>\n      <td>v1_0</td>\n      <td>307510</td>\n      <td>EN122240363-N-7</td>\n      <td>2017-09-07 12:52:00</td>\n      <td>RESI</td>\n      <td>2587</td>\n      <td>2d5f84c81d0cecc04aa847c49aa28b284c287a18585e83...</td>\n    </tr>\n  </tbody>\n</table>\n<p>29641 rows × 18 columns</p>\n</div>"
     },
     "execution_count": 24,
     "metadata": {},
     "output_type": "execute_result"
    }
   ],
   "source": [
    "bronze_df = spark.read.parquet(OUTPUT_PATH + \"bronze\", mergeSchema=True)\n",
    "\n",
    "augment = bronze_df.withColumn(\"HashKey\", F.sha2(F.concat_ws(\"||\", *bronze_df.columns), 256))\n",
    "\n",
    "convert_to_timestamp = augment \\\n",
    "    .withColumn(\"AccountID\",F.col(\"AccountID\").cast(IntegerType())) \\\n",
    "    .withColumn(\"CODE\",F.col(\"CODE\").cast(IntegerType())) \\\n",
    "    .withColumn(\"ActiveIndicator\",F.col(\"ActiveIndicator\").cast(IntegerType())) \\\n",
    "    .withColumn(\"ImplementedDate\", F.unix_timestamp(\"ImplementedDate\", \"d/MM/yyyy HH:mm\").cast(TimestampType())) \\\n",
    "    .withColumn(\"RequestDate\", F.to_timestamp(\"RequestDate\", 'dd/MM/yyyy HH:mm').cast(TimestampType())) \\\n",
    "    .withColumn(\"StatusCode\",F.col(\"StatusCode\").cast(IntegerType())) \\\n",
    "    .withColumn(\"Amount\",F.col(\"Amount\").cast(DoubleType())) \\\n",
    "    .withColumn(\"AgentID\",F.col(\"AgentID\").cast(IntegerType())) \\\n",
    "    .withColumn(\"LastUpdatedDate\", F.to_timestamp(\"LastUpdatedDate\", 'dd/MM/yyyy HH:mm').cast(TimestampType())) \\\n",
    "    .withColumn(\"PostCode\",F.col(\"PostCode\").cast(IntegerType()))\n",
    "\n",
    "drop_nulls = convert_to_timestamp.na.drop(subset=[\"AccountID\"])\n",
    "filter_out = drop_nulls.filter(~drop_nulls.Fibre.startswith('2.67E'))\n",
    "drop_date_column  = filter_out.drop('date')\n",
    "drop_date_column.write.format(\"parquet\").mode(\"overwrite\").save(OUTPUT_PATH + 'silver/' + 'date' + '=' + file_processed_date())\n",
    "drop_date_column.toPandas()"
   ]
  },
  {
   "cell_type": "markdown",
   "source": [
    "### GOLD ###\n",
    "***"
   ],
   "metadata": {
    "collapsed": false,
    "pycharm": {
     "name": "#%% md\n"
    }
   }
  },
  {
   "cell_type": "markdown",
   "source": [
    "- Presentation layer."
   ],
   "metadata": {
    "collapsed": false
   }
  },
  {
   "cell_type": "code",
   "execution_count": 25,
   "metadata": {
    "collapsed": false,
    "jupyter": {
     "outputs_hidden": false
    },
    "pycharm": {
     "name": "#%%\n"
    }
   },
   "outputs": [
    {
     "data": {
      "text/plain": "       AccountID  CODE ImplementedDate  ActiveIndicator AccountType Service  \\\n0          15368   543      2017-09-07              1.0         B2B     ELE   \n1          23232   543      2017-09-07              1.0         B2B     ELE   \n2         232323   543      2017-09-07              1.0         B2B     ELE   \n3         307263   543      2017-09-07              1.0         B2B     ELE   \n4         415740   105      2017-09-05              1.0         B2B     ELE   \n...          ...   ...             ...              ...         ...     ...   \n29636      10078   543      2017-09-07              1.0         B2B     ELE   \n29637      10095   543      2017-09-07              1.0         B2B     ELE   \n29638      10036   543      2017-09-07              1.0         B2B     ELE   \n29639      10053   543      2017-09-07              1.0         B2B     ELE   \n29640      10018   543      2017-09-07              1.0         B2B     ELE   \n\n         BU RequestDate AccountStatus  StatusCode  Amount Version  AgentID  \\\n0      NUOS  2017-08-17          PAID           8    3.94    v1_0   307508   \n1      NUOS  2017-08-10          PAID           7  126.96    v1_0   307508   \n2      NUOS  2017-08-09          PAID           6   15.43    v1_0   307508   \n3      NUOS  2017-08-09          PAID           6    3.49    v1_0   307508   \n4      NUOS  2017-09-04          PAID           8    3.31    v1_0   307312   \n...     ...         ...           ...         ...     ...     ...      ...   \n29636  NUOS  2017-08-28          PAID           7    6.92    v1_0   307510   \n29637  NUOS  2017-08-29          PAID           1    0.46    v1_0   307510   \n29638  NUOS  2017-08-29          PAID           7    8.53    v1_0   307510   \n29639  NUOS  2017-08-29          PAID           8    7.44    v1_0   307510   \n29640  NUOS  2017-08-30          REVR           3    0.17    v1_0   307510   \n\n                        Fibre     LastUpdatedDate PropertyType  PostCode  \\\n0             EN121794032-N-5 2017-09-07 11:09:00         RESI      2587   \n1            EN121542407-N-12 2017-09-07 11:04:00         RESI      2587   \n2             EN121491293-N-9 2017-09-07 11:05:00         RESI      2587   \n3            EN121491293-N-13 2017-09-07 11:05:00         RESI      2587   \n4      EA983_54004586547-N-11 2017-09-11 10:44:00         RESI      2581   \n...                       ...                 ...          ...       ...   \n29636        EN122165150-N-15 2017-09-07 12:44:00         RESI      2587   \n29637         EN122228188-N-5 2017-09-07 12:48:00         RESI      2587   \n29638         EN122231542-N-9 2017-09-07 12:48:00         RESI      2587   \n29639         EN122225528-N-9 2017-09-07 12:48:00         RESI      2587   \n29640         EN122240363-N-7 2017-09-07 12:52:00         RESI      2587   \n\n                                                 HashKey  \n0      ae52557431727f096d968da7265c14abeb3bb3afa0fb4a...  \n1      e4aad9f5903db9c97d5991d49f50e986b086e4c5343ca9...  \n2      6e463c062b46ce88656b7971c482bb5489b9e012214848...  \n3      6e2f04ff85422285e6cfe08508144b47262c77a590dee3...  \n4      9057e3e8fc73f87b752b99e782400367c2ec2390358e72...  \n...                                                  ...  \n29636  e6a92b6e6004c91e49608b9e9910abbb7644c3294acd6a...  \n29637  a620f509f0657fd9a9e10f2b1db5645dd3bd518f1bcb2a...  \n29638  39ba2d4d960ac2baf636a187ad2e18eea7470aa5f1d94e...  \n29639  7a531111b3b8f0efe538d47cf521d2fd95475824e623da...  \n29640  2d5f84c81d0cecc04aa847c49aa28b284c287a18585e83...  \n\n[29641 rows x 18 columns]",
      "text/html": "<div>\n<style scoped>\n    .dataframe tbody tr th:only-of-type {\n        vertical-align: middle;\n    }\n\n    .dataframe tbody tr th {\n        vertical-align: top;\n    }\n\n    .dataframe thead th {\n        text-align: right;\n    }\n</style>\n<table border=\"1\" class=\"dataframe\">\n  <thead>\n    <tr style=\"text-align: right;\">\n      <th></th>\n      <th>AccountID</th>\n      <th>CODE</th>\n      <th>ImplementedDate</th>\n      <th>ActiveIndicator</th>\n      <th>AccountType</th>\n      <th>Service</th>\n      <th>BU</th>\n      <th>RequestDate</th>\n      <th>AccountStatus</th>\n      <th>StatusCode</th>\n      <th>Amount</th>\n      <th>Version</th>\n      <th>AgentID</th>\n      <th>Fibre</th>\n      <th>LastUpdatedDate</th>\n      <th>PropertyType</th>\n      <th>PostCode</th>\n      <th>HashKey</th>\n    </tr>\n  </thead>\n  <tbody>\n    <tr>\n      <th>0</th>\n      <td>15368</td>\n      <td>543</td>\n      <td>2017-09-07</td>\n      <td>1.0</td>\n      <td>B2B</td>\n      <td>ELE</td>\n      <td>NUOS</td>\n      <td>2017-08-17</td>\n      <td>PAID</td>\n      <td>8</td>\n      <td>3.94</td>\n      <td>v1_0</td>\n      <td>307508</td>\n      <td>EN121794032-N-5</td>\n      <td>2017-09-07 11:09:00</td>\n      <td>RESI</td>\n      <td>2587</td>\n      <td>ae52557431727f096d968da7265c14abeb3bb3afa0fb4a...</td>\n    </tr>\n    <tr>\n      <th>1</th>\n      <td>23232</td>\n      <td>543</td>\n      <td>2017-09-07</td>\n      <td>1.0</td>\n      <td>B2B</td>\n      <td>ELE</td>\n      <td>NUOS</td>\n      <td>2017-08-10</td>\n      <td>PAID</td>\n      <td>7</td>\n      <td>126.96</td>\n      <td>v1_0</td>\n      <td>307508</td>\n      <td>EN121542407-N-12</td>\n      <td>2017-09-07 11:04:00</td>\n      <td>RESI</td>\n      <td>2587</td>\n      <td>e4aad9f5903db9c97d5991d49f50e986b086e4c5343ca9...</td>\n    </tr>\n    <tr>\n      <th>2</th>\n      <td>232323</td>\n      <td>543</td>\n      <td>2017-09-07</td>\n      <td>1.0</td>\n      <td>B2B</td>\n      <td>ELE</td>\n      <td>NUOS</td>\n      <td>2017-08-09</td>\n      <td>PAID</td>\n      <td>6</td>\n      <td>15.43</td>\n      <td>v1_0</td>\n      <td>307508</td>\n      <td>EN121491293-N-9</td>\n      <td>2017-09-07 11:05:00</td>\n      <td>RESI</td>\n      <td>2587</td>\n      <td>6e463c062b46ce88656b7971c482bb5489b9e012214848...</td>\n    </tr>\n    <tr>\n      <th>3</th>\n      <td>307263</td>\n      <td>543</td>\n      <td>2017-09-07</td>\n      <td>1.0</td>\n      <td>B2B</td>\n      <td>ELE</td>\n      <td>NUOS</td>\n      <td>2017-08-09</td>\n      <td>PAID</td>\n      <td>6</td>\n      <td>3.49</td>\n      <td>v1_0</td>\n      <td>307508</td>\n      <td>EN121491293-N-13</td>\n      <td>2017-09-07 11:05:00</td>\n      <td>RESI</td>\n      <td>2587</td>\n      <td>6e2f04ff85422285e6cfe08508144b47262c77a590dee3...</td>\n    </tr>\n    <tr>\n      <th>4</th>\n      <td>415740</td>\n      <td>105</td>\n      <td>2017-09-05</td>\n      <td>1.0</td>\n      <td>B2B</td>\n      <td>ELE</td>\n      <td>NUOS</td>\n      <td>2017-09-04</td>\n      <td>PAID</td>\n      <td>8</td>\n      <td>3.31</td>\n      <td>v1_0</td>\n      <td>307312</td>\n      <td>EA983_54004586547-N-11</td>\n      <td>2017-09-11 10:44:00</td>\n      <td>RESI</td>\n      <td>2581</td>\n      <td>9057e3e8fc73f87b752b99e782400367c2ec2390358e72...</td>\n    </tr>\n    <tr>\n      <th>...</th>\n      <td>...</td>\n      <td>...</td>\n      <td>...</td>\n      <td>...</td>\n      <td>...</td>\n      <td>...</td>\n      <td>...</td>\n      <td>...</td>\n      <td>...</td>\n      <td>...</td>\n      <td>...</td>\n      <td>...</td>\n      <td>...</td>\n      <td>...</td>\n      <td>...</td>\n      <td>...</td>\n      <td>...</td>\n      <td>...</td>\n    </tr>\n    <tr>\n      <th>29636</th>\n      <td>10078</td>\n      <td>543</td>\n      <td>2017-09-07</td>\n      <td>1.0</td>\n      <td>B2B</td>\n      <td>ELE</td>\n      <td>NUOS</td>\n      <td>2017-08-28</td>\n      <td>PAID</td>\n      <td>7</td>\n      <td>6.92</td>\n      <td>v1_0</td>\n      <td>307510</td>\n      <td>EN122165150-N-15</td>\n      <td>2017-09-07 12:44:00</td>\n      <td>RESI</td>\n      <td>2587</td>\n      <td>e6a92b6e6004c91e49608b9e9910abbb7644c3294acd6a...</td>\n    </tr>\n    <tr>\n      <th>29637</th>\n      <td>10095</td>\n      <td>543</td>\n      <td>2017-09-07</td>\n      <td>1.0</td>\n      <td>B2B</td>\n      <td>ELE</td>\n      <td>NUOS</td>\n      <td>2017-08-29</td>\n      <td>PAID</td>\n      <td>1</td>\n      <td>0.46</td>\n      <td>v1_0</td>\n      <td>307510</td>\n      <td>EN122228188-N-5</td>\n      <td>2017-09-07 12:48:00</td>\n      <td>RESI</td>\n      <td>2587</td>\n      <td>a620f509f0657fd9a9e10f2b1db5645dd3bd518f1bcb2a...</td>\n    </tr>\n    <tr>\n      <th>29638</th>\n      <td>10036</td>\n      <td>543</td>\n      <td>2017-09-07</td>\n      <td>1.0</td>\n      <td>B2B</td>\n      <td>ELE</td>\n      <td>NUOS</td>\n      <td>2017-08-29</td>\n      <td>PAID</td>\n      <td>7</td>\n      <td>8.53</td>\n      <td>v1_0</td>\n      <td>307510</td>\n      <td>EN122231542-N-9</td>\n      <td>2017-09-07 12:48:00</td>\n      <td>RESI</td>\n      <td>2587</td>\n      <td>39ba2d4d960ac2baf636a187ad2e18eea7470aa5f1d94e...</td>\n    </tr>\n    <tr>\n      <th>29639</th>\n      <td>10053</td>\n      <td>543</td>\n      <td>2017-09-07</td>\n      <td>1.0</td>\n      <td>B2B</td>\n      <td>ELE</td>\n      <td>NUOS</td>\n      <td>2017-08-29</td>\n      <td>PAID</td>\n      <td>8</td>\n      <td>7.44</td>\n      <td>v1_0</td>\n      <td>307510</td>\n      <td>EN122225528-N-9</td>\n      <td>2017-09-07 12:48:00</td>\n      <td>RESI</td>\n      <td>2587</td>\n      <td>7a531111b3b8f0efe538d47cf521d2fd95475824e623da...</td>\n    </tr>\n    <tr>\n      <th>29640</th>\n      <td>10018</td>\n      <td>543</td>\n      <td>2017-09-07</td>\n      <td>1.0</td>\n      <td>B2B</td>\n      <td>ELE</td>\n      <td>NUOS</td>\n      <td>2017-08-30</td>\n      <td>REVR</td>\n      <td>3</td>\n      <td>0.17</td>\n      <td>v1_0</td>\n      <td>307510</td>\n      <td>EN122240363-N-7</td>\n      <td>2017-09-07 12:52:00</td>\n      <td>RESI</td>\n      <td>2587</td>\n      <td>2d5f84c81d0cecc04aa847c49aa28b284c287a18585e83...</td>\n    </tr>\n  </tbody>\n</table>\n<p>29641 rows × 18 columns</p>\n</div>"
     },
     "execution_count": 25,
     "metadata": {},
     "output_type": "execute_result"
    }
   ],
   "source": [
    "silver_df = spark.read.parquet(OUTPUT_PATH + \"silver\", mergeSchema=True)\n",
    "drop_date_column  = silver_df.drop('date')\n",
    "# drop_date_column.coalesce(1).write.option(\"maxRecordsPerFile\", 1000).json(OUTPUT_PATH + 'gold', mode='overwrite')\n",
    "drop_date_column.write.format(\"parquet\").mode(\"overwrite\").save(OUTPUT_PATH + 'gold/' + 'date' + '=' + file_processed_date())\n",
    "drop_date_column.toPandas()"
   ]
  }
 ],
 "metadata": {
  "kernelspec": {
   "display_name": "Python 3 (ipykernel)",
   "language": "python",
   "name": "python3"
  },
  "language_info": {
   "codemirror_mode": {
    "name": "ipython",
    "version": 3
   },
   "file_extension": ".py",
   "mimetype": "text/x-python",
   "name": "python",
   "nbconvert_exporter": "python",
   "pygments_lexer": "ipython3",
   "version": "3.8.9"
  }
 },
 "nbformat": 4,
 "nbformat_minor": 4
}