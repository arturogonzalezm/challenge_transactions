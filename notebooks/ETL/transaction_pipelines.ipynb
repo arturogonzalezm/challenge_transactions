{
 "cells": [
  {
   "cell_type": "markdown",
   "source": [
    "## ETL Pipelines ##\n",
    "***"
   ],
   "metadata": {
    "collapsed": false,
    "pycharm": {
     "name": "#%% md\n"
    }
   }
  },
  {
   "cell_type": "markdown",
   "source": [
    "Call RAW Transaction.csv file, as well as output file path."
   ],
   "metadata": {
    "collapsed": false,
    "pycharm": {
     "name": "#%% md\n"
    }
   }
  },
  {
   "cell_type": "code",
   "execution_count": 151,
   "outputs": [],
   "source": [
    "RAW_FILE_PATH = '../../data/raw/Transaction.csv'\n",
    "OUTPUT_PATH = '../../data/'"
   ],
   "metadata": {
    "collapsed": false,
    "pycharm": {
     "name": "#%%\n"
    }
   }
  },
  {
   "cell_type": "markdown",
   "source": [
    "Run schema definitions"
   ],
   "metadata": {
    "collapsed": false,
    "pycharm": {
     "name": "#%% md\n"
    }
   }
  },
  {
   "cell_type": "code",
   "execution_count": 152,
   "metadata": {},
   "outputs": [],
   "source": [
    "%run '../schema_definition/schema.py'"
   ]
  },
  {
   "cell_type": "markdown",
   "source": [
    "Import schema definitions"
   ],
   "metadata": {
    "collapsed": false,
    "pycharm": {
     "name": "#%% md\n"
    }
   }
  },
  {
   "cell_type": "code",
   "execution_count": 153,
   "metadata": {},
   "outputs": [],
   "source": [
    "import sys  \n",
    "sys.path.insert(0, '../../')\n",
    "\n",
    "from schema_definition.schema import *"
   ]
  },
  {
   "cell_type": "markdown",
   "source": [
    "Import Pyspark related libraries"
   ],
   "metadata": {
    "collapsed": false,
    "pycharm": {
     "name": "#%% md\n"
    }
   }
  },
  {
   "cell_type": "code",
   "execution_count": 154,
   "metadata": {},
   "outputs": [],
   "source": [
    "from pyspark.shell import spark\n",
    "from pyspark.sql.types import *\n",
    "from pyspark.sql import functions as F"
   ]
  },
  {
   "cell_type": "markdown",
   "source": [
    "Create a user defined function to add timestamp to ouput folder names."
   ],
   "metadata": {
    "collapsed": false,
    "pycharm": {
     "name": "#%% md\n"
    }
   }
  },
  {
   "cell_type": "code",
   "execution_count": 155,
   "outputs": [
    {
     "name": "stderr",
     "output_type": "stream",
     "text": [
      "21/10/16 03:07:08 WARN SimpleFunctionRegistry: The function file_processed_date replaced a previously registered function.\n"
     ]
    },
    {
     "data": {
      "text/plain": "<function __main__.file_processed_date()>"
     },
     "execution_count": 155,
     "metadata": {},
     "output_type": "execute_result"
    }
   ],
   "source": [
    "from datetime import datetime\n",
    "\n",
    "def file_processed_date():\n",
    "    return datetime.now().strftime(\"%Y-%m-%d\")\n",
    "\n",
    "spark.udf.register(\"file_processed_date\", file_processed_date, TimestampType())"
   ],
   "metadata": {
    "collapsed": false,
    "pycharm": {
     "name": "#%%\n"
    }
   }
  },
  {
   "cell_type": "markdown",
   "source": [
    "This variable enables legacy TimeStamp datatype conversion"
   ],
   "metadata": {
    "collapsed": false,
    "pycharm": {
     "name": "#%% md\n"
    }
   }
  },
  {
   "cell_type": "code",
   "execution_count": 156,
   "metadata": {},
   "outputs": [
    {
     "data": {
      "text/plain": "DataFrame[key: string, value: string]"
     },
     "execution_count": 156,
     "metadata": {},
     "output_type": "execute_result"
    }
   ],
   "source": [
    "spark.sql(\"set spark.sql.legacy.timeParserPolicy=LEGACY\")"
   ]
  },
  {
   "cell_type": "markdown",
   "source": [
    "### BRONZE ###\n",
    "***"
   ],
   "metadata": {
    "collapsed": false
   }
  },
  {
   "cell_type": "markdown",
   "source": [
    "This paragraph will read/extract the data from the Transaction.csv file, force the schema to the default 17 columns and write onto a\n",
    "tab separated csv file."
   ],
   "metadata": {
    "collapsed": false,
    "pycharm": {
     "name": "#%% md\n"
    }
   }
  },
  {
   "cell_type": "code",
   "execution_count": 157,
   "metadata": {
    "collapsed": false,
    "jupyter": {
     "outputs_hidden": false
    },
    "pycharm": {
     "name": "#%%\n"
    }
   },
   "outputs": [
    {
     "name": "stderr",
     "output_type": "stream",
     "text": [
      "21/10/16 03:07:08 WARN CSVHeaderChecker: Number of column in CSV header is not equal to number of fields in the schema:\n",
      " Header length: 19, schema size: 17\n",
      "CSV file: file:///Users/arturogonzalez/DataspellProjects/transactions_notebooks/data/raw/Transaction.csv\n"
     ]
    }
   ],
   "source": [
    "raw_df = spark.read.csv(RAW_FILE_PATH, sep=',', header=True, schema=bronze_schema, enforceSchema=True)\n",
    "raw_df.write.format(\"parquet\").mode(\"overwrite\").save(OUTPUT_PATH + 'bronze/' + 'date' + '=' + file_processed_date())"
   ]
  },
  {
   "cell_type": "markdown",
   "source": [
    "### SILVER ###\n",
    "***"
   ],
   "metadata": {
    "collapsed": false,
    "pycharm": {
     "name": "#%% md\n"
    }
   }
  },
  {
   "cell_type": "markdown",
   "source": [
    "This paragraph will:\n",
    "- Augment the data with a hash key.\n",
    "- Filter out the questionable data.\n",
    "- Apply DataTypes.\n"
   ],
   "metadata": {
    "collapsed": false
   }
  },
  {
   "cell_type": "code",
   "execution_count": 158,
   "metadata": {},
   "outputs": [],
   "source": [
    "bronze_df = spark.read.parquet(OUTPUT_PATH + \"bronze\", mergeSchema=True)\n",
    "\n",
    "augment = bronze_df.withColumn(\"HashKey\", F.sha2(F.concat_ws(\"||\", *bronze_df.columns), 256))\n",
    "\n",
    "convert_to_timestamp = augment \\\n",
    "    .withColumn(\"AccountID\",F.col(\"AccountID\").cast(IntegerType())) \\\n",
    "    .withColumn(\"CODE\",F.col(\"CODE\").cast(IntegerType())) \\\n",
    "    .withColumn(\"ActiveIndicator\",F.col(\"ActiveIndicator\").cast(IntegerType())) \\\n",
    "    .withColumn(\"ImplementedDate\", F.unix_timestamp(\"ImplementedDate\", \"d/MM/yyyy HH:mm\").cast(TimestampType())) \\\n",
    "    .withColumn(\"RequestDate\", F.to_timestamp(\"RequestDate\", 'dd/MM/yyyy HH:mm').cast(TimestampType())) \\\n",
    "    .withColumn(\"StatusCode\",F.col(\"StatusCode\").cast(IntegerType())) \\\n",
    "    .withColumn(\"Amount\",F.col(\"Amount\").cast(DoubleType())) \\\n",
    "    .withColumn(\"AgentID\",F.col(\"AgentID\").cast(IntegerType())) \\\n",
    "    .withColumn(\"LastUpdatedDate\", F.to_timestamp(\"LastUpdatedDate\", 'dd/MM/yyyy HH:mm').cast(TimestampType())) \\\n",
    "    .withColumn(\"PostCode\",F.col(\"PostCode\").cast(IntegerType()))\n",
    "\n",
    "drop_nulls = convert_to_timestamp.na.drop(subset=[\"AccountID\"])\n",
    "filter_out = drop_nulls.filter(~drop_nulls.Fibre.startswith('2.67E'))\n",
    "drop_date_column  = filter_out.drop('date')\n",
    "drop_date_column.write.format(\"parquet\").mode(\"overwrite\").save(OUTPUT_PATH + 'silver/' + 'date' + '=' + file_processed_date())"
   ]
  },
  {
   "cell_type": "markdown",
   "source": [
    "### GOLD ###\n",
    "***"
   ],
   "metadata": {
    "collapsed": false,
    "pycharm": {
     "name": "#%% md\n"
    }
   }
  },
  {
   "cell_type": "markdown",
   "source": [
    "This paragraph will:\n",
    "\n",
    "- Presentation layer."
   ],
   "metadata": {
    "collapsed": false
   }
  },
  {
   "cell_type": "code",
   "execution_count": 160,
   "metadata": {
    "collapsed": false,
    "jupyter": {
     "outputs_hidden": false
    },
    "pycharm": {
     "name": "#%%\n"
    }
   },
   "outputs": [],
   "source": [
    "silver_df = spark.read.parquet(OUTPUT_PATH + \"silver\", mergeSchema=True)\n",
    "drop_date_column  = silver_df.drop('date')\n",
    "# drop_date_column.coalesce(1).write.option(\"maxRecordsPerFile\", 1000).json(OUTPUT_PATH + 'gold', mode='overwrite')\n",
    "drop_date_column.write.format(\"parquet\").mode(\"overwrite\").save(OUTPUT_PATH + 'gold/' + 'date' + '=' + file_processed_date())"
   ]
  }
 ],
 "metadata": {
  "kernelspec": {
   "display_name": "Python 3 (ipykernel)",
   "language": "python",
   "name": "python3"
  },
  "language_info": {
   "codemirror_mode": {
    "name": "ipython",
    "version": 3
   },
   "file_extension": ".py",
   "mimetype": "text/x-python",
   "name": "python",
   "nbconvert_exporter": "python",
   "pygments_lexer": "ipython3",
   "version": "3.8.9"
  }
 },
 "nbformat": 4,
 "nbformat_minor": 4
}